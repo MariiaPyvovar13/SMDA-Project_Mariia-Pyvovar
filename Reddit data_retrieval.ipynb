{
 "cells": [
  {
   "cell_type": "markdown",
   "source": [
    "## Project title: Public Perception and Engagement Dynamics of the Ukrainian war on Reddit"
   ],
   "metadata": {
    "collapsed": false
   },
   "id": "3ae92357e392f978"
  },
  {
   "cell_type": "code",
   "execution_count": 2,
   "outputs": [
    {
     "name": "stdout",
     "output_type": "stream",
     "text": [
      "Requirement already satisfied: pip in /Applications/anaconda3/lib/python3.11/site-packages (24.2)\r\n",
      "Requirement already satisfied: praw in /Applications/anaconda3/lib/python3.11/site-packages (7.7.1)\r\n",
      "Requirement already satisfied: prawcore<3,>=2.1 in /Applications/anaconda3/lib/python3.11/site-packages (from praw) (2.4.0)\r\n",
      "Requirement already satisfied: update-checker>=0.18 in /Applications/anaconda3/lib/python3.11/site-packages (from praw) (0.18.0)\r\n",
      "Requirement already satisfied: websocket-client>=0.54.0 in /Applications/anaconda3/lib/python3.11/site-packages (from praw) (0.58.0)\r\n",
      "Requirement already satisfied: requests<3.0,>=2.6.0 in /Applications/anaconda3/lib/python3.11/site-packages (from prawcore<3,>=2.1->praw) (2.31.0)\r\n",
      "Requirement already satisfied: six in /Applications/anaconda3/lib/python3.11/site-packages (from websocket-client>=0.54.0->praw) (1.16.0)\r\n",
      "Requirement already satisfied: charset-normalizer<4,>=2 in /Applications/anaconda3/lib/python3.11/site-packages (from requests<3.0,>=2.6.0->prawcore<3,>=2.1->praw) (2.0.4)\r\n",
      "Requirement already satisfied: idna<4,>=2.5 in /Applications/anaconda3/lib/python3.11/site-packages (from requests<3.0,>=2.6.0->prawcore<3,>=2.1->praw) (3.4)\r\n",
      "Requirement already satisfied: urllib3<3,>=1.21.1 in /Applications/anaconda3/lib/python3.11/site-packages (from requests<3.0,>=2.6.0->prawcore<3,>=2.1->praw) (1.26.16)\r\n",
      "Requirement already satisfied: certifi>=2017.4.17 in /Applications/anaconda3/lib/python3.11/site-packages (from requests<3.0,>=2.6.0->prawcore<3,>=2.1->praw) (2023.7.22)\r\n"
     ]
    }
   ],
   "source": [
    "! pip install -r requirements.txt\n",
    "! pip install --upgrade pip\n",
    "! pip install praw"
   ],
   "metadata": {
    "collapsed": false,
    "ExecuteTime": {
     "end_time": "2024-08-14T12:52:31.654524Z",
     "start_time": "2024-08-14T12:52:27.523562Z"
    }
   },
   "id": "6fc3ee0e2ba5a921"
  },
  {
   "cell_type": "code",
   "execution_count": 3,
   "outputs": [],
   "source": [
    "import praw\n",
    "import requests\n",
    "import time\n",
    "from datetime import datetime, timedelta\n",
    "import pandas as pd"
   ],
   "metadata": {
    "collapsed": false,
    "ExecuteTime": {
     "end_time": "2024-08-14T12:52:32.920083Z",
     "start_time": "2024-08-14T12:52:31.656248Z"
    }
   },
   "id": "78c2ec2337dcaa87"
  },
  {
   "cell_type": "code",
   "execution_count": 4,
   "outputs": [],
   "source": [
    "# Reddit API credentials\n",
    "client_id = \"IG6L1mCi0sWNUc1ysvGSEQ\"\n",
    "client_secret = \"p-BOlUMb9XPgiJ_mhxpSOnkKBNyvbQ\"\n",
    "user_agent = \"MyData\""
   ],
   "metadata": {
    "collapsed": false,
    "ExecuteTime": {
     "end_time": "2024-08-14T12:52:32.921101Z",
     "start_time": "2024-08-14T12:52:32.913521Z"
    }
   },
   "id": "43fdb4d1ddcf8fc8"
  },
  {
   "cell_type": "code",
   "execution_count": 5,
   "outputs": [],
   "source": [
    "# Initialize PRAW with credentials\n",
    "reddit = praw.Reddit(client_id=client_id,\n",
    "                     client_secret=client_secret,\n",
    "                     user_agent=user_agent)\n",
    "\n",
    "# Access the subreddit\n",
    "subreddit = reddit.subreddit(\"UkrainianConflict\")"
   ],
   "metadata": {
    "collapsed": false,
    "ExecuteTime": {
     "end_time": "2024-08-14T12:52:33.104861Z",
     "start_time": "2024-08-14T12:52:32.916957Z"
    }
   },
   "id": "48d4915f30c7ed40"
  },
  {
   "cell_type": "code",
   "execution_count": 6,
   "outputs": [
    {
     "name": "stdout",
     "output_type": "stream",
     "text": [
      "Title: The Daily Hog is back + Discussion Megathread\n",
      "Score: 69\n",
      "Upvote Ratio: 0.93\n",
      "Number of Comments: 14\n",
      "URL: https://www.reddit.com/r/UkrainianConflict/comments/1dp1abp/the_daily_hog_is_back_discussion_megathread/\n",
      "\n",
      "Title: Ukrainian Brigade obliterates elite Kadyrov unit in Kursk, shares photographic evidence\n",
      "Score: 3052\n",
      "Upvote Ratio: 0.97\n",
      "Number of Comments: 130\n",
      "URL: https://www.uawire.org/ukrainian-brigade-obliterates-elite-kadyrov-unit-in-kursk-shares-photographic-evidence\n",
      "\n",
      "Title: Russian military convoy decimated by HIMARS strike near Kursk: new details emerge on casualties and units involved\n",
      "Score: 963\n",
      "Upvote Ratio: 0.99\n",
      "Number of Comments: 63\n",
      "URL: https://www.uawire.org/russian-military-column-decimated-by-himars-strike-near-kursk-new-details-emerge-on-casualties-and-units-involved\n",
      "\n",
      "Title: Robin Brooks \"In the first 4 months of 2024, Hungary's exports to Kyrgyzstan were $81 mn versus around $2 mn in the same 4-month period before Russia invaded Ukraine. That's a rise of 3400%. Nothing about this is normal. Nothing about it should be happening. This stuff is going to Russia...\"\n",
      "Score: 499\n",
      "Upvote Ratio: 0.99\n",
      "Number of Comments: 33\n",
      "URL: https://x.com/robin_j_brooks/status/1822612375838543883\n",
      "\n",
      "Title: Russian forces are rapidly digging a network of trenches in Kursk Oblast, with only one catch: The trenches are 45km behind the border. Russian forces have been developing a trench network that, if fallen back to, would cede Ukraine a massive amount of territory.\n",
      "Score: 883\n",
      "Upvote Ratio: 0.99\n",
      "Number of Comments: 73\n",
      "URL: https://twitter.com/Osinttechnical/status/1823548238433050845\n",
      "\n",
      "Title: BREAKING Russia's Belgorod border region declares state of emergency: governor\n",
      "Score: 815\n",
      "Upvote Ratio: 0.99\n",
      "Number of Comments: 40\n",
      "URL: https://x.com/AFP/status/1823568238514696371\n",
      "\n",
      "Title: Decorated Ukrainian pilot killed in action\n",
      "Score: 262\n",
      "Upvote Ratio: 0.98\n",
      "Number of Comments: 21\n",
      "URL: https://kyivindependent.com/ukrainian-pilot-killed-in-action/\n",
      "\n",
      "Title: A Russian lawmaker says the military knew Ukraine was planning to hit Kursk, but everyone was told 'not to panic' because 'those above know better'\n",
      "Score: 271\n",
      "Upvote Ratio: 1.0\n",
      "Number of Comments: 31\n",
      "URL: https://www.yahoo.com/news/russian-lawmaker-says-military-knew-053535592.html\n",
      "\n",
      "Title: North Korea Is Sending Munitions to Russia and, in Return, Is Getting — Goats\n",
      "Score: 205\n",
      "Upvote Ratio: 0.99\n",
      "Number of Comments: 42\n",
      "URL: https://www.politico.eu/article/kim-jong-un-vladimir-putin-russia-north-korea-goats-cooperation/\n",
      "\n",
      "Title: Ukraine hits 4 Russian airbases overnight in largest such attack, source says\n",
      "Score: 174\n",
      "Upvote Ratio: 1.0\n",
      "Number of Comments: 20\n",
      "URL: https://kyivindependent.com/ukraine-hit-4-russian-airbases/\n"
     ]
    }
   ],
   "source": [
    "# Retrieve the top 10 hot posts\n",
    "for post in subreddit.hot(limit=10):\n",
    "    print(f\"Title: {post.title}\")\n",
    "    print(f\"Score: {post.score}\")\n",
    "    print(f\"Upvote Ratio: {post.upvote_ratio}\")\n",
    "    print(f\"Number of Comments: {post.num_comments}\")\n",
    "    print(f\"URL: {post.url}\\n\")"
   ],
   "metadata": {
    "collapsed": false,
    "ExecuteTime": {
     "end_time": "2024-08-14T12:52:33.808629Z",
     "start_time": "2024-08-14T12:52:33.106573Z"
    }
   },
   "id": "f0bcec0e6009efb"
  },
  {
   "cell_type": "code",
   "execution_count": 7,
   "outputs": [
    {
     "name": "stdout",
     "output_type": "stream",
     "text": [
      "Comment by pkstrl0rd: To any and all Europeans here I wrote this text earlier, and I want you to take action.\n",
      "\n",
      "I think we need to be much more hawkish than we currently are and think like Russians. We need AT LEAST the readiness to switch to war economy mode fast. No one knows what kind of partner we will have in the US in the future, let alone if a war starts in the Pacific.\n",
      "\n",
      "It is a great start that Germany will be hosting nukes and some people think, but while I support Germany having those missiles, I hope they are not a crutch they will fall on and prolong true rearmament of Europe, and fast. Besides Germany doesnt even get to decide when one would be launched, the US does. \n",
      "\n",
      "So does it get launched when Estonian or Polish first villages or bases fall against an proportionate Russian troop formation or base. Or does it only get launched when defence lines in Poland are about to fall.Or even when Baltic countries have fallen.\n",
      "\n",
      "Probably not right?\n",
      "\n",
      "I think ALL NATO countries need to re-setup the and increase the industrial bases and train workers to work on Shells, Tanks, IFVs and COMMIT the investmentbto to it.\n",
      "\n",
      "We (Finland) have felt the threat for a long time and are constantly preparing and adapting. We have probably the largest artillery base in EU not counting Ukraine and Russia, but with drone spotting the need to shoot and scoot is bigger than ever. So we need more of them to be Mobile artillery systems that are quick to set up, shoot, and change position. Good point would also be Drone warfare. I know the Baltics, Poland and probably Czechia feel this danger as potently as us\n",
      "\n",
      "And I have seen some, but not enough joint projects like I think the Italians, french or germans and UK were investing in creating new ballistic missiles. Cruise missiles also please, we aren't bound by the \"No medium ramge missiles able to carry a nuke\" since Russia never observed it.\n",
      "\n",
      "And I know as EUropeans and EU members we don't need to do this very often. But write to your member of parliament, or straight to Defence minister. We need more production and production facilities for a lot more than shells and we need them soon. Please western Europeans understand our concern so that new investments can be allocated fast to certain parts of the continent and we may work together on parts creation. And I know it wont end up \"Fairly\" some countries with established Defence firms wil get more investment. But we can make this right by those companies investing in plants in countries where there isnt much defence industry. Or even make it even with some Cold hard cash to countries where little production makes sense like the baltics.\n",
      "\n",
      "But we must move MUCH faster than we are moving now if the Russians rearm quickly after Ukraine and set their sights on us.\n",
      "\n",
      "I beg of you even though it may feel foreign to you to want to make weapons of destruction.\n",
      "\n",
      "Please make it clear with letters, with phone calls, with your actions and your votes, that Europe needs to militarise more quickly. \n",
      "\n",
      "Russia has AT LEAST a two and a half year headstart, and they are in total war economy mode. So lets at least prepare for the worst!\n",
      "\n",
      "Russians might not and in reality without outside help, cannot switch off the war economy, as their whole economy would collapse. That is why they strive for more and have long meddled in European affairs using underhanded tactics.\n",
      "\n",
      "In addition to these actions consider a career in the military. There are a lot more than grunts there, I cant even start to list all the roles there are that help. Whether you just like to see go boom, like to save lives, are interested in cyberwarfare, or are more of a R&D guy who would like to work for manufacturers, there is a job for you and the pay is often pretty decent depending on role.\n",
      "\n",
      "Many European countries are going back to conscription military service or thinking about it. So you might as well get a headstart and become a leader.\n",
      "\n",
      "It is also all of our duty to report Russian propaganda and recognize it is such. Their mew hybrid warfare would rather have us fight eachother, but don't fall for it. Fact check and educate others. And of course if you see something suspicious, report it immediately to the police because we know Russian saboteurs are working in our lands!\n",
      "\n",
      "Also if you quite arent sure about service in the army. Take a short army course in basic things, which are offered in many countries by organisations.\n",
      "\n",
      "We might have to sacrifice some our GDP to effectively rearm fast, but think of that as an investment into everything you love about your country and another European countries. If we must fight to keep these freedoms then we shall.\n",
      "\n",
      "Slava Ukraini, and lets rearm Europe and work together against the threat!\n",
      "Score: 7\n",
      "\n",
      "Comment by TheMooJuice: Why does anybody think the putin has nukes? Why? 2022 showed thst corruption had become endemic with the perceived lack of threat. Even the money for uniforms was missing, so conscripts in 2023 wore whatever they could for a time.\n",
      "\n",
      "If Russia had nuke capability they would fucking show it off with an underground test. They don't. Thus they can't. \n",
      "\n",
      "They are however most certainly working on it. Every day they are allowed to continue they get closer and more capable. To believe otherwise would be illogical, surely this is obvious?\n",
      "\n",
      "I feel like I'm taking crazy pills. Escalation!? ESCALATION!? YOU THINK RUSSIA IS HOLDING BACK!?!?!? for fucks sake!\n",
      "Score: 3\n",
      "\n",
      "Comment by Euphoric_General_274: Will the Ukrainians fortify the gains in Kursk? If they want to use it as a bargaining chip they have to hold it long term.\n",
      "Score: 1\n"
     ]
    }
   ],
   "source": [
    "# Retrieve the top 10 comments of the first post\n",
    "top_post = next(subreddit.hot(limit=1))\n",
    "for comment in top_post.comments:\n",
    "    if isinstance(comment, praw.models.MoreComments):\n",
    "        continue\n",
    "    print(f'Comment by {comment.author}: {comment.body}')\n",
    "    print(f'Score: {comment.score}\\n')"
   ],
   "metadata": {
    "collapsed": false,
    "ExecuteTime": {
     "end_time": "2024-08-14T12:52:34.345895Z",
     "start_time": "2024-08-14T12:52:33.810121Z"
    }
   },
   "id": "557c26e6f105661f"
  },
  {
   "cell_type": "code",
   "execution_count": 8,
   "outputs": [
    {
     "ename": "AttributeError",
     "evalue": "type object 'datetime.datetime' has no attribute 'datetime'",
     "output_type": "error",
     "traceback": [
      "\u001B[0;31m---------------------------------------------------------------------------\u001B[0m",
      "\u001B[0;31mAttributeError\u001B[0m                            Traceback (most recent call last)",
      "Cell \u001B[0;32mIn[8], line 46\u001B[0m\n\u001B[1;32m     43\u001B[0m     \u001B[38;5;28;01mreturn\u001B[39;00m all_comments\n\u001B[1;32m     45\u001B[0m \u001B[38;5;66;03m# Calculate the timestamp for 2 years ago\u001B[39;00m\n\u001B[0;32m---> 46\u001B[0m two_years_ago \u001B[38;5;241m=\u001B[39m datetime\u001B[38;5;241m.\u001B[39mdatetime\u001B[38;5;241m.\u001B[39mnow() \u001B[38;5;241m-\u001B[39m datetime\u001B[38;5;241m.\u001B[39mtimedelta(days\u001B[38;5;241m=\u001B[39m\u001B[38;5;241m365\u001B[39m)\n\u001B[1;32m     47\u001B[0m two_years_ago_timestamp \u001B[38;5;241m=\u001B[39m \u001B[38;5;28mint\u001B[39m(two_years_ago\u001B[38;5;241m.\u001B[39mtimestamp())\n\u001B[1;32m     49\u001B[0m \u001B[38;5;66;03m# Calculate the timestamp for 2 years + 1 day ago to limit the search range\u001B[39;00m\n",
      "\u001B[0;31mAttributeError\u001B[0m: type object 'datetime.datetime' has no attribute 'datetime'"
     ]
    }
   ],
   "source": [
    "# Function to get comments from Pushshift.io\n",
    "def get_old_comments(subreddit, before, after, size=100, limit=1000, max_retries=5):\n",
    "    url = 'https://api.pushshift.io/reddit/comment/search/'\n",
    "    all_comments = []\n",
    "    params = {\n",
    "        'subreddit': subreddit,\n",
    "        'before': before,\n",
    "        'after': after,\n",
    "        'size': size,\n",
    "        'sort': 'asc',\n",
    "        'sort_type': 'created_utc'\n",
    "    }\n",
    "    retries = 0\n",
    "\n",
    "    while len(all_comments) < limit:\n",
    "        try:\n",
    "            response = requests.get(url, params=params)\n",
    "            if response.status_code == 403:\n",
    "                print('Error 403: Forbidden. Check API status or credentials.')\n",
    "                break\n",
    "            elif response.status_code != 200:\n",
    "                print(f'Error: {response.status_code}. Retrying...')\n",
    "                retries += 1\n",
    "                if retries >= max_retries:\n",
    "                    print('Max retries reached. Exiting...')\n",
    "                    break\n",
    "                time.sleep(2 ** retries)  # Exponential backoff\n",
    "                continue\n",
    "            data = response.json().get('data', [])\n",
    "            if not data:\n",
    "                break\n",
    "            all_comments.extend(data)\n",
    "            params['before'] = data[-1]['created_utc']\n",
    "            print(f\"Fetched {len(all_comments)} comments...\")\n",
    "        except requests.exceptions.RequestException as e:\n",
    "            print(f'Request failed: {e}')\n",
    "            retries += 1\n",
    "            if retries >= max_retries:\n",
    "                print('Max retries reached. Exiting...')\n",
    "                break\n",
    "            time.sleep(2 ** retries)  # Exponential backoff\n",
    "\n",
    "    return all_comments\n",
    "\n",
    "# Calculate the timestamp for 2 years ago\n",
    "two_years_ago = datetime.datetime.now() - datetime.timedelta(days=365)\n",
    "two_years_ago_timestamp = int(two_years_ago.timestamp())\n",
    "\n",
    "# Calculate the timestamp for 2 years + 1 day ago to limit the search range\n",
    "two_years_plus_one_day_ago = two_years_ago - datetime.timedelta(days=1)\n",
    "two_years_plus_one_day_timestamp = int(two_years_plus_one_day_ago.timestamp())\n",
    "\n",
    "# Get comments from 2 years ago in the 'UkrainianConflict' subreddit\n",
    "subreddit = 'UkrainianConflict'\n",
    "comments = get_old_comments(subreddit, before=two_years_ago_timestamp, after=two_years_plus_one_day_timestamp)\n",
    "\n",
    "# Check if comments were found and print the earliest comment's date\n",
    "if comments:\n",
    "    earliest_comment_time = datetime.datetime.fromtimestamp(comments[0]['created_utc'])\n",
    "    earliest_comment_date = earliest_comment_time.strftime('%d.%m.%Y')\n",
    "    print(f'Earliest comment date: {earliest_comment_date}')\n",
    "else:\n",
    "    print('No comments found within the specified time range.')\n",
    "\n",
    "# Print details of retrieved comments\n",
    "for comment in comments:\n",
    "    print(f'Comment ID: {comment[\"id\"]}')\n",
    "    print(f'Author: {comment[\"author\"]}')\n",
    "    print(f'Body: {comment[\"body\"]}')\n",
    "    print(f'Created at: {datetime.datetime.fromtimestamp(comment[\"created_utc\"]).strftime(\"%d.%m.%Y %H:%M:%S\")}\\n')\n",
    "\n",
    "    "
   ],
   "metadata": {
    "collapsed": false,
    "ExecuteTime": {
     "end_time": "2024-08-14T12:52:34.393946Z",
     "start_time": "2024-08-14T12:52:34.354104Z"
    }
   },
   "id": "9854ee75d1078170"
  },
  {
   "cell_type": "code",
   "execution_count": null,
   "outputs": [],
   "source": [
    "# Specify the subreddit\n",
    "subreddit = reddit.subreddit('UkrainianConflict')\n",
    "\n",
    "# Calculate the time window (up to five days ago)\n",
    "one_year_ago = datetime.utcnow() - timedelta(days=365)\n",
    "\n",
    "# Retrieve submissions and comments\n",
    "for submission in subreddit.new(limit=None):\n",
    "    # Check if the submission is within the time window\n",
    "    if submission.created_utc >= one_year_ago.timestamp():\n",
    "        print(f\"Submission Title: {submission.title}\")\n",
    "        print(f\"Submission URL: {submission.url}\")\n",
    "        print(f\"Submission Author: {submission.author}\")\n",
    "        print(f\"Submission Created Time (UTC): {datetime.utcfromtimestamp(submission.created_utc)}\")\n",
    "        print(f\"Number of Comments: {submission.num_comments}\")\n",
    "        print(\"\\nComments:\")\n",
    "        \n",
    "        # Fetch comments for the submission\n",
    "        submission.comments.replace_more(limit=None)\n",
    "        for comment in submission.comments.list():\n",
    "            # Print only the top-level comments\n",
    "            if comment.depth == 0:\n",
    "                print(f\"Comment by {comment.author}: {comment.body}\")\n",
    "        \n",
    "        print(\"\\n------------------------\\n\")"
   ],
   "metadata": {
    "collapsed": false,
    "ExecuteTime": {
     "start_time": "2024-08-09T08:27:22.793956Z"
    }
   },
   "id": "454fff54369a0c78"
  },
  {
   "cell_type": "code",
   "execution_count": 23,
   "outputs": [
    {
     "name": "stdout",
     "output_type": "stream",
     "text": [
      "Data saved to reddit_ukrainian_conflict_last_5_days.csv\n"
     ]
    }
   ],
   "source": [
    "# Define the subreddit and time window\n",
    "subreddit_name = 'UkrainianConflict'\n",
    "subreddit = reddit.subreddit(subreddit_name)\n",
    "five_days_ago = datetime.utcnow() - timedelta(days=5)\n",
    "\n",
    "# Lists to store the data\n",
    "posts_data = []\n",
    "\n",
    "# Fetch posts from the last 5 days\n",
    "for submission in subreddit.new(limit=None):\n",
    "    if datetime.utcfromtimestamp(submission.created_utc) >= five_days_ago:\n",
    "        post = {\n",
    "            'id': submission.id,\n",
    "            'title': submission.title,\n",
    "            'score': submission.score,\n",
    "            'num_comments': submission.num_comments,\n",
    "            'upvote_ratio': submission.upvote_ratio,\n",
    "            'created_utc': datetime.utcfromtimestamp(submission.created_utc),\n",
    "            'author': submission.author.name if submission.author else 'deleted',\n",
    "            'url': submission.url\n",
    "        }\n",
    "        posts_data.append(post)\n",
    "\n",
    "# Create a DataFrame\n",
    "df = pd.DataFrame(posts_data)\n",
    "\n",
    "# Save the DataFrame to a CSV file\n",
    "csv_file = 'reddit_ukrainian_conflict_last_5_days.csv'\n",
    "df.to_csv(csv_file, index=False)\n",
    "\n",
    "print(f\"Data saved to {csv_file}\")"
   ],
   "metadata": {
    "collapsed": false,
    "ExecuteTime": {
     "end_time": "2024-08-09T08:27:34.281472Z",
     "start_time": "2024-08-09T08:27:23.198905Z"
    }
   },
   "id": "977924257ec2da08"
  },
  {
   "cell_type": "markdown",
   "source": [
    "## Subreddit r/Ukrainian_Conflict"
   ],
   "metadata": {
    "collapsed": false
   },
   "id": "b07dc50f2e8d916d"
  },
  {
   "cell_type": "code",
   "execution_count": 24,
   "outputs": [
    {
     "name": "stdout",
     "output_type": "stream",
     "text": [
      "Data saved to Data gathering/reddit_ukrainian_conflict_last_30_days___5.csv\n"
     ]
    }
   ],
   "source": [
    "# Define the subreddit and time window\n",
    "subreddit_name = 'UkrainianConflict'\n",
    "subreddit = reddit.subreddit(subreddit_name)\n",
    "five_days_ago = datetime.utcnow() - timedelta(days=30)\n",
    "\n",
    "# Lists to store the data\n",
    "posts_data = []\n",
    "\n",
    "# Fetch posts from the last 5 days\n",
    "for submission in subreddit.new(limit=None):\n",
    "    if datetime.utcfromtimestamp(submission.created_utc) >= five_days_ago:\n",
    "        post = {\n",
    "            'id': submission.id,\n",
    "            'title': submission.title,\n",
    "            'score': submission.score,\n",
    "            'num_comments': submission.num_comments,\n",
    "            'upvote_ratio': submission.upvote_ratio,\n",
    "            'created_utc': datetime.utcfromtimestamp(submission.created_utc),\n",
    "            'author': submission.author.name if submission.author else 'deleted',\n",
    "            'url': submission.url\n",
    "        }\n",
    "        posts_data.append(post)\n",
    "\n",
    "# Create a DataFrame\n",
    "df = pd.DataFrame(posts_data)\n",
    "\n",
    "# Save the DataFrame to a CSV file\n",
    "csv_file = 'Data gathering/reddit_ukrainian_conflict_last_30_days___5.csv'\n",
    "df.to_csv(csv_file, index=False)\n",
    "\n",
    "print(f\"Data saved to {csv_file}\")"
   ],
   "metadata": {
    "collapsed": false,
    "ExecuteTime": {
     "end_time": "2024-08-09T08:27:45.012181Z",
     "start_time": "2024-08-09T08:27:34.282481Z"
    }
   },
   "id": "12a23d349301981b"
  },
  {
   "cell_type": "markdown",
   "source": [
    "## Subreddit r/ukraine last 2 weeks"
   ],
   "metadata": {
    "collapsed": false
   },
   "id": "f2eb49baff91fc3b"
  },
  {
   "cell_type": "code",
   "execution_count": 25,
   "outputs": [
    {
     "name": "stdout",
     "output_type": "stream",
     "text": [
      "Data saved to Data gathering/reddit_ukraine_last_30_days___4.csv\n"
     ]
    }
   ],
   "source": [
    "#NEW SUBREDDIT\n",
    "# Define the subreddit and time window\n",
    "subreddit_name = ('ukraine')\n",
    "subreddit = reddit.subreddit(subreddit_name)\n",
    "five_days_ago = datetime.utcnow() - timedelta(days=30)\n",
    "\n",
    "# Lists to store the data\n",
    "posts_data = []\n",
    "\n",
    "# Fetch posts from the last 5 days\n",
    "for submission in subreddit.new(limit=None):\n",
    "    if datetime.utcfromtimestamp(submission.created_utc) >= five_days_ago:\n",
    "        post = {\n",
    "            'id': submission.id,\n",
    "            'title': submission.title,\n",
    "            'score': submission.score,\n",
    "            'num_comments': submission.num_comments,\n",
    "            'upvote_ratio': submission.upvote_ratio,\n",
    "            'created_utc': datetime.utcfromtimestamp(submission.created_utc),\n",
    "            'author': submission.author.name if submission.author else 'deleted',\n",
    "            'url': submission.url\n",
    "        }\n",
    "        posts_data.append(post)\n",
    "\n",
    "# Create a DataFrame\n",
    "df = pd.DataFrame(posts_data)\n",
    "\n",
    "# Save the DataFrame to a CSV file\n",
    "csv_file = 'Data gathering/reddit_ukraine_last_30_days___4.csv'\n",
    "df.to_csv(csv_file, index=False)\n",
    "\n",
    "print(f\"Data saved to {csv_file}\")"
   ],
   "metadata": {
    "collapsed": false,
    "ExecuteTime": {
     "end_time": "2024-08-09T08:27:58.701496Z",
     "start_time": "2024-08-09T08:27:45.013004Z"
    }
   },
   "id": "476aa80d38fd0ae3"
  },
  {
   "cell_type": "markdown",
   "source": [
    "## Subreddit r/ukraine June first 2 weeks"
   ],
   "metadata": {
    "collapsed": false
   },
   "id": "13b68aec99d9ff82"
  },
  {
   "cell_type": "code",
   "execution_count": null,
   "outputs": [
    {
     "name": "stdout",
     "output_type": "stream",
     "text": [
      "Error fetching data: 403\n",
      "Error fetching data: 403\n",
      "Error fetching data: 403\n",
      "Error fetching data: 403\n",
      "Error fetching data: 403\n",
      "Error fetching data: 403\n",
      "Error fetching data: 403\n",
      "Error fetching data: 403\n",
      "Error fetching data: 403\n",
      "Error fetching data: 403\n",
      "Error fetching data: 403\n"
     ]
    }
   ],
   "source": [
    "def fetch_reddit_data(subreddit, start_epoch, end_epoch, size=100):\n",
    "    base_url = 'http://api.pushshift.io/reddit/search/submission'\n",
    "    all_posts = []\n",
    "    headers = {'User-Agent': 'MyRedditScraper/1.0'}\n",
    "    while start_epoch < end_epoch:\n",
    "        params = {\n",
    "            'subreddit': subreddit,\n",
    "            'after': start_epoch,\n",
    "            'before': end_epoch,\n",
    "            'size': size,\n",
    "            'sort': 'asc',  # sort by creation time ascending\n",
    "            'sort_type': 'created_utc'\n",
    "        }\n",
    "        response = requests.get(base_url, headers=headers, params=params)\n",
    "        if response.status_code == 200:\n",
    "            posts = response.json()['data']\n",
    "            if not posts:\n",
    "                break\n",
    "            all_posts.extend(posts)\n",
    "            start_epoch = posts[-1]['created_utc'] + 1  # Avoid duplicate entries\n",
    "        else:\n",
    "            print(f\"Error fetching data: {response.status_code}\")\n",
    "            time.sleep(60)  # Wait a minute before retrying\n",
    "            continue\n",
    "        time.sleep(1)  # Avoid hitting rate limits\n",
    "    return all_posts\n",
    "\n",
    "# Define the time range for June 1, 2024, to June 14, 2024\n",
    "subreddit = 'ukraine'\n",
    "start_epoch = int(time.mktime(time.strptime('2024-06-01', '%Y-%m-%d')))\n",
    "end_epoch = int(time.mktime(time.strptime('2024-06-14', '%Y-%m-%d')))\n",
    "\n",
    "# Fetch the data\n",
    "posts = fetch_reddit_data(subreddit, start_epoch, end_epoch)\n",
    "df = pd.DataFrame(posts)\n",
    "\n",
    "# Save to CSV\n",
    "df.to_csv('reddit_ukraine_june_2024.csv', index=False)"
   ],
   "metadata": {
    "collapsed": false,
    "is_executing": true,
    "ExecuteTime": {
     "start_time": "2024-08-09T08:27:58.703774Z"
    }
   },
   "id": "27020d5bf2644d6e"
  },
  {
   "cell_type": "markdown",
   "source": [
    "## Subreddit r/geopolitics 30 days"
   ],
   "metadata": {
    "collapsed": false
   },
   "id": "a7172331fb37d823"
  },
  {
   "cell_type": "code",
   "execution_count": null,
   "outputs": [],
   "source": [
    "#NEW SUBREDDIT\n",
    "# Define the subreddit and time window\n",
    "subreddit_name = ('geopolitics')\n",
    "subreddit = reddit.subreddit(subreddit_name)\n",
    "thirty_days_ago = datetime.utcnow() - timedelta(days=30)\n",
    "\n",
    "# Lists to store the data\n",
    "posts_data = []\n",
    "\n",
    "# Fetch posts from the last 5 days\n",
    "for submission in subreddit.new(limit=None):\n",
    "    if datetime.utcfromtimestamp(submission.created_utc) >= thirty_days_ago:\n",
    "        post = {\n",
    "            'id': submission.id,\n",
    "            'title': submission.title,\n",
    "            'score': submission.score,\n",
    "            'num_comments': submission.num_comments,\n",
    "            'upvote_ratio': submission.upvote_ratio,\n",
    "            'created_utc': datetime.utcfromtimestamp(submission.created_utc),\n",
    "            'author': submission.author.name if submission.author else 'deleted',\n",
    "            'url': submission.url\n",
    "        }\n",
    "        posts_data.append(post)\n",
    "\n",
    "# Create a DataFrame\n",
    "df = pd.DataFrame(posts_data)\n",
    "\n",
    "# Save the DataFrame to a CSV file\n",
    "csv_file = 'reddit_geopolitics_last_30_days.csv'\n",
    "df.to_csv(csv_file, index=False)\n",
    "\n",
    "print(f\"Data saved to {csv_file}\")"
   ],
   "metadata": {
    "collapsed": false,
    "is_executing": true
   },
   "id": "600652f849cdae24"
  },
  {
   "cell_type": "markdown",
   "source": [
    "## Subreddit r/geopolitics 3 months"
   ],
   "metadata": {
    "collapsed": false
   },
   "id": "490f24195365632f"
  },
  {
   "cell_type": "code",
   "execution_count": 10,
   "outputs": [
    {
     "name": "stdout",
     "output_type": "stream",
     "text": [
      "Data saved to Data gathering/reddit_geopolitics.csv\n"
     ]
    }
   ],
   "source": [
    "#NEW SUBREDDIT\n",
    "# Define the subreddit and time window\n",
    "subreddit_name = ('geopolitics')\n",
    "subreddit = reddit.subreddit(subreddit_name)\n",
    "ninety_days_ago = datetime.utcnow() - timedelta(days=90)\n",
    "\n",
    "# Lists to store the data\n",
    "posts_data = []\n",
    "\n",
    "# Fetch posts from the last 5 days\n",
    "for submission in subreddit.new(limit=None):\n",
    "    if datetime.utcfromtimestamp(submission.created_utc) >= ninety_days_ago:\n",
    "        post = {\n",
    "            'id': submission.id,\n",
    "            'title': submission.title,\n",
    "            'score': submission.score,\n",
    "            'num_comments': submission.num_comments,\n",
    "            'upvote_ratio': submission.upvote_ratio,\n",
    "            'created_utc': datetime.utcfromtimestamp(submission.created_utc),\n",
    "            'author': submission.author.name if submission.author else 'deleted',\n",
    "            'url': submission.url\n",
    "        }\n",
    "        posts_data.append(post)\n",
    "\n",
    "# Create a DataFrame\n",
    "df = pd.DataFrame(posts_data)\n",
    "\n",
    "# Save the DataFrame to a CSV file\n",
    "csv_file = 'Data gathering/reddit_geopolitics.csv'\n",
    "df.to_csv(csv_file, index=False)\n",
    "\n",
    "print(f\"Data saved to {csv_file}\")"
   ],
   "metadata": {
    "collapsed": false,
    "ExecuteTime": {
     "end_time": "2024-08-14T12:55:52.967789Z",
     "start_time": "2024-08-14T12:55:40.526627Z"
    }
   },
   "id": "f08d87fe8b735ce5"
  },
  {
   "cell_type": "code",
   "execution_count": null,
   "outputs": [],
   "source": [],
   "metadata": {
    "collapsed": false
   },
   "id": "f7f5e85b72e28322"
  }
 ],
 "metadata": {
  "kernelspec": {
   "display_name": "Python 3",
   "language": "python",
   "name": "python3"
  },
  "language_info": {
   "codemirror_mode": {
    "name": "ipython",
    "version": 2
   },
   "file_extension": ".py",
   "mimetype": "text/x-python",
   "name": "python",
   "nbconvert_exporter": "python",
   "pygments_lexer": "ipython2",
   "version": "2.7.6"
  }
 },
 "nbformat": 4,
 "nbformat_minor": 5
}
