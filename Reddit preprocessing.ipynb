{
 "cells": [
  {
   "cell_type": "markdown",
   "source": [
    "Project title: "
   ],
   "metadata": {
    "collapsed": false
   },
   "id": "3ae92357e392f978"
  },
  {
   "cell_type": "code",
   "execution_count": 196,
   "outputs": [
    {
     "name": "stdout",
     "output_type": "stream",
     "text": [
      "Requirement already satisfied: pip in /Applications/anaconda3/lib/python3.11/site-packages (24.2)\r\n",
      "Requirement already satisfied: pandas in /Applications/anaconda3/lib/python3.11/site-packages (2.0.3)\r\n",
      "Requirement already satisfied: python-dateutil>=2.8.2 in /Applications/anaconda3/lib/python3.11/site-packages (from pandas) (2.8.2)\r\n",
      "Requirement already satisfied: pytz>=2020.1 in /Applications/anaconda3/lib/python3.11/site-packages (from pandas) (2023.3.post1)\r\n",
      "Requirement already satisfied: tzdata>=2022.1 in /Applications/anaconda3/lib/python3.11/site-packages (from pandas) (2023.3)\r\n",
      "Requirement already satisfied: numpy>=1.21.0 in /Applications/anaconda3/lib/python3.11/site-packages (from pandas) (1.24.3)\r\n",
      "Requirement already satisfied: six>=1.5 in /Applications/anaconda3/lib/python3.11/site-packages (from python-dateutil>=2.8.2->pandas) (1.16.0)\r\n"
     ]
    }
   ],
   "source": [
    "! pip install -r requirements.txt\n",
    "! pip install --upgrade pip\n",
    "! pip install pandas"
   ],
   "metadata": {
    "collapsed": false,
    "ExecuteTime": {
     "end_time": "2024-08-21T18:11:26.395316Z",
     "start_time": "2024-08-21T18:11:24.460286Z"
    }
   },
   "id": "6fc3ee0e2ba5a921"
  },
  {
   "cell_type": "code",
   "execution_count": 197,
   "outputs": [],
   "source": [
    "import pandas as pd\n",
    "import re"
   ],
   "metadata": {
    "collapsed": false,
    "ExecuteTime": {
     "end_time": "2024-08-21T18:11:26.395801Z",
     "start_time": "2024-08-21T18:11:26.342170Z"
    }
   },
   "id": "78c2ec2337dcaa87"
  },
  {
   "cell_type": "markdown",
   "source": [
    "## Data preprocessing"
   ],
   "metadata": {
    "collapsed": false
   },
   "id": "f755d77f91ef67a4"
  },
  {
   "cell_type": "markdown",
   "source": [
    "## r/Ukrainian_Conflict"
   ],
   "metadata": {
    "collapsed": false
   },
   "id": "94357f6a3007ff20"
  },
  {
   "cell_type": "code",
   "execution_count": 198,
   "outputs": [
    {
     "data": {
      "text/plain": "        id                                              title  score  \\\n0  1dpuang  Poland 's Duda visits China, talks to Xi about...      1   \n1  1dpu5oi  Germany, Poland warn against French far-right ...      1   \n2  1dpu2e5  \"Without Poland, we can't win against Russia\":...      4   \n3  1dptxt9  The missile attack on the beach in Crimea was ...      8   \n4  1dptsz0  Seoul warns Russia over North Korea-supplied w...      9   \n\n   num_comments  upvote_ratio          created_utc                author  \\\n0             1          1.00  2024-06-27 15:38:27  Independent_Lie_9982   \n1             1          0.67  2024-06-27 15:32:26  Independent_Lie_9982   \n2             2          0.83  2024-06-27 15:28:35  Independent_Lie_9982   \n3             1          1.00  2024-06-27 15:23:22              ua-stena   \n4             2          0.91  2024-06-27 15:18:06  Independent_Lie_9982   \n\n                                                 url  \n0  https://www.ctvnews.ca/world/leader-of-nato-me...  \n1  https://www.euractiv.com/section/defence-and-s...  \n2  https://www.polskieradio.pl/395/9766/artykul/3...  \n3  https://ua-stena.info/en/missile-fall-in-sevas...  \n4  https://www.euronews.com/my-europe/2024/06/27/...  ",
      "text/html": "<div>\n<style scoped>\n    .dataframe tbody tr th:only-of-type {\n        vertical-align: middle;\n    }\n\n    .dataframe tbody tr th {\n        vertical-align: top;\n    }\n\n    .dataframe thead th {\n        text-align: right;\n    }\n</style>\n<table border=\"1\" class=\"dataframe\">\n  <thead>\n    <tr style=\"text-align: right;\">\n      <th></th>\n      <th>id</th>\n      <th>title</th>\n      <th>score</th>\n      <th>num_comments</th>\n      <th>upvote_ratio</th>\n      <th>created_utc</th>\n      <th>author</th>\n      <th>url</th>\n    </tr>\n  </thead>\n  <tbody>\n    <tr>\n      <th>0</th>\n      <td>1dpuang</td>\n      <td>Poland 's Duda visits China, talks to Xi about...</td>\n      <td>1</td>\n      <td>1</td>\n      <td>1.00</td>\n      <td>2024-06-27 15:38:27</td>\n      <td>Independent_Lie_9982</td>\n      <td>https://www.ctvnews.ca/world/leader-of-nato-me...</td>\n    </tr>\n    <tr>\n      <th>1</th>\n      <td>1dpu5oi</td>\n      <td>Germany, Poland warn against French far-right ...</td>\n      <td>1</td>\n      <td>1</td>\n      <td>0.67</td>\n      <td>2024-06-27 15:32:26</td>\n      <td>Independent_Lie_9982</td>\n      <td>https://www.euractiv.com/section/defence-and-s...</td>\n    </tr>\n    <tr>\n      <th>2</th>\n      <td>1dpu2e5</td>\n      <td>\"Without Poland, we can't win against Russia\":...</td>\n      <td>4</td>\n      <td>2</td>\n      <td>0.83</td>\n      <td>2024-06-27 15:28:35</td>\n      <td>Independent_Lie_9982</td>\n      <td>https://www.polskieradio.pl/395/9766/artykul/3...</td>\n    </tr>\n    <tr>\n      <th>3</th>\n      <td>1dptxt9</td>\n      <td>The missile attack on the beach in Crimea was ...</td>\n      <td>8</td>\n      <td>1</td>\n      <td>1.00</td>\n      <td>2024-06-27 15:23:22</td>\n      <td>ua-stena</td>\n      <td>https://ua-stena.info/en/missile-fall-in-sevas...</td>\n    </tr>\n    <tr>\n      <th>4</th>\n      <td>1dptsz0</td>\n      <td>Seoul warns Russia over North Korea-supplied w...</td>\n      <td>9</td>\n      <td>2</td>\n      <td>0.91</td>\n      <td>2024-06-27 15:18:06</td>\n      <td>Independent_Lie_9982</td>\n      <td>https://www.euronews.com/my-europe/2024/06/27/...</td>\n    </tr>\n  </tbody>\n</table>\n</div>"
     },
     "execution_count": 198,
     "metadata": {},
     "output_type": "execute_result"
    }
   ],
   "source": [
    "df1 = pd.read_csv(\"Data gathering/reddit_ukrainian_conflict_last_30_days___1.csv\")\n",
    "df1.head()"
   ],
   "metadata": {
    "collapsed": false,
    "ExecuteTime": {
     "end_time": "2024-08-21T18:11:26.396798Z",
     "start_time": "2024-08-21T18:11:26.351144Z"
    }
   },
   "id": "52c7652d6e34ea53"
  },
  {
   "cell_type": "code",
   "execution_count": 199,
   "outputs": [
    {
     "data": {
      "text/plain": "        id                                              title  score  \\\n0  1e3wavs  Slovakian parliament will not condemn Russian ...      1   \n1  1e3vuz2  Ban Russian ShipToShip oil transfers. It's san...      7   \n2  1e3vlwh  Estonia: Premier Kallas resigns to become top ...     12   \n3  1e3vcnp  Russian full-scale invasion killed 561 childre...      6   \n4  1e3v9q3  Pletenchuk: Russia has withdrawn the last patr...      7   \n\n   num_comments  upvote_ratio          created_utc                author  \\\n0             1           1.0  2024-07-15 14:33:55              LIGA_net   \n1             2           1.0  2024-07-15 14:15:28  Delicious_Advice_243   \n2             3           1.0  2024-07-15 14:04:52             misana123   \n3             1           1.0  2024-07-15 13:53:57    Jumpy-General-3859   \n4             1           1.0  2024-07-15 13:50:21             Mil_in_ua   \n\n                                                 url  \n0  https://news.liga.net/en/politics/news/slovaki...  \n1  https://energyandcleanair.org/june-2024-monthl...  \n2  https://www.dw.com/en/estonia-premier-kallas-r...  \n3  https://gwaramedia.com/en/russian-full-scale-i...  \n4  https://mil.in.ua/en/news/pletenchuk-russia-ha...  ",
      "text/html": "<div>\n<style scoped>\n    .dataframe tbody tr th:only-of-type {\n        vertical-align: middle;\n    }\n\n    .dataframe tbody tr th {\n        vertical-align: top;\n    }\n\n    .dataframe thead th {\n        text-align: right;\n    }\n</style>\n<table border=\"1\" class=\"dataframe\">\n  <thead>\n    <tr style=\"text-align: right;\">\n      <th></th>\n      <th>id</th>\n      <th>title</th>\n      <th>score</th>\n      <th>num_comments</th>\n      <th>upvote_ratio</th>\n      <th>created_utc</th>\n      <th>author</th>\n      <th>url</th>\n    </tr>\n  </thead>\n  <tbody>\n    <tr>\n      <th>0</th>\n      <td>1e3wavs</td>\n      <td>Slovakian parliament will not condemn Russian ...</td>\n      <td>1</td>\n      <td>1</td>\n      <td>1.0</td>\n      <td>2024-07-15 14:33:55</td>\n      <td>LIGA_net</td>\n      <td>https://news.liga.net/en/politics/news/slovaki...</td>\n    </tr>\n    <tr>\n      <th>1</th>\n      <td>1e3vuz2</td>\n      <td>Ban Russian ShipToShip oil transfers. It's san...</td>\n      <td>7</td>\n      <td>2</td>\n      <td>1.0</td>\n      <td>2024-07-15 14:15:28</td>\n      <td>Delicious_Advice_243</td>\n      <td>https://energyandcleanair.org/june-2024-monthl...</td>\n    </tr>\n    <tr>\n      <th>2</th>\n      <td>1e3vlwh</td>\n      <td>Estonia: Premier Kallas resigns to become top ...</td>\n      <td>12</td>\n      <td>3</td>\n      <td>1.0</td>\n      <td>2024-07-15 14:04:52</td>\n      <td>misana123</td>\n      <td>https://www.dw.com/en/estonia-premier-kallas-r...</td>\n    </tr>\n    <tr>\n      <th>3</th>\n      <td>1e3vcnp</td>\n      <td>Russian full-scale invasion killed 561 childre...</td>\n      <td>6</td>\n      <td>1</td>\n      <td>1.0</td>\n      <td>2024-07-15 13:53:57</td>\n      <td>Jumpy-General-3859</td>\n      <td>https://gwaramedia.com/en/russian-full-scale-i...</td>\n    </tr>\n    <tr>\n      <th>4</th>\n      <td>1e3v9q3</td>\n      <td>Pletenchuk: Russia has withdrawn the last patr...</td>\n      <td>7</td>\n      <td>1</td>\n      <td>1.0</td>\n      <td>2024-07-15 13:50:21</td>\n      <td>Mil_in_ua</td>\n      <td>https://mil.in.ua/en/news/pletenchuk-russia-ha...</td>\n    </tr>\n  </tbody>\n</table>\n</div>"
     },
     "execution_count": 199,
     "metadata": {},
     "output_type": "execute_result"
    }
   ],
   "source": [
    "df2 = pd.read_csv(\"Data gathering/reddit_ukrainian_conflict_last_30_days___2.csv\")\n",
    "df2.head()"
   ],
   "metadata": {
    "collapsed": false,
    "ExecuteTime": {
     "end_time": "2024-08-21T18:11:26.397320Z",
     "start_time": "2024-08-21T18:11:26.384712Z"
    }
   },
   "id": "f7f5e85b72e28322"
  },
  {
   "cell_type": "code",
   "execution_count": 200,
   "outputs": [
    {
     "data": {
      "text/plain": "        id                                              title  score  \\\n0  1eboffc  In a speech, President of Slovakia, \\n@Pellegr...      1   \n1  1ebo9o1  Ukrainian Spokesperson: Russia Has Pulled All ...      2   \n2  1ebo8k8        Russia’s war losses up by 1,230 in past day      1   \n3  1ebo8du  Ukraine downs 25 of 38 Russian kamikaze drones...      1   \n4  1ebo5vb  China confirms it won&#x27;t supply weapons to...      2   \n\n   num_comments  upvote_ratio          created_utc                author  \\\n0             1          1.00  2024-07-25 06:58:04       Rich-Annual5511   \n1             1          1.00  2024-07-25 06:47:54       Rich-Annual5511   \n2             1          1.00  2024-07-25 06:45:57            MantasChan   \n3             1          1.00  2024-07-25 06:45:38            MantasChan   \n4             1          0.75  2024-07-25 06:41:03  PieceAffectionate460   \n\n                                                 url  \n0  https://x.com/TVPWorld_com/status/181615135545...  \n1  https://www.marinelink.com/news/ukrainian-spok...  \n2  https://www.ukrinform.net/rubric-ato/3888709-r...  \n3  https://www.ukrinform.net/rubric-ato/3888714-u...  \n4  https://kyivindependent.com/china-confirms-it-...  ",
      "text/html": "<div>\n<style scoped>\n    .dataframe tbody tr th:only-of-type {\n        vertical-align: middle;\n    }\n\n    .dataframe tbody tr th {\n        vertical-align: top;\n    }\n\n    .dataframe thead th {\n        text-align: right;\n    }\n</style>\n<table border=\"1\" class=\"dataframe\">\n  <thead>\n    <tr style=\"text-align: right;\">\n      <th></th>\n      <th>id</th>\n      <th>title</th>\n      <th>score</th>\n      <th>num_comments</th>\n      <th>upvote_ratio</th>\n      <th>created_utc</th>\n      <th>author</th>\n      <th>url</th>\n    </tr>\n  </thead>\n  <tbody>\n    <tr>\n      <th>0</th>\n      <td>1eboffc</td>\n      <td>In a speech, President of Slovakia, \\n@Pellegr...</td>\n      <td>1</td>\n      <td>1</td>\n      <td>1.00</td>\n      <td>2024-07-25 06:58:04</td>\n      <td>Rich-Annual5511</td>\n      <td>https://x.com/TVPWorld_com/status/181615135545...</td>\n    </tr>\n    <tr>\n      <th>1</th>\n      <td>1ebo9o1</td>\n      <td>Ukrainian Spokesperson: Russia Has Pulled All ...</td>\n      <td>2</td>\n      <td>1</td>\n      <td>1.00</td>\n      <td>2024-07-25 06:47:54</td>\n      <td>Rich-Annual5511</td>\n      <td>https://www.marinelink.com/news/ukrainian-spok...</td>\n    </tr>\n    <tr>\n      <th>2</th>\n      <td>1ebo8k8</td>\n      <td>Russia’s war losses up by 1,230 in past day</td>\n      <td>1</td>\n      <td>1</td>\n      <td>1.00</td>\n      <td>2024-07-25 06:45:57</td>\n      <td>MantasChan</td>\n      <td>https://www.ukrinform.net/rubric-ato/3888709-r...</td>\n    </tr>\n    <tr>\n      <th>3</th>\n      <td>1ebo8du</td>\n      <td>Ukraine downs 25 of 38 Russian kamikaze drones...</td>\n      <td>1</td>\n      <td>1</td>\n      <td>1.00</td>\n      <td>2024-07-25 06:45:38</td>\n      <td>MantasChan</td>\n      <td>https://www.ukrinform.net/rubric-ato/3888714-u...</td>\n    </tr>\n    <tr>\n      <th>4</th>\n      <td>1ebo5vb</td>\n      <td>China confirms it won&amp;#x27;t supply weapons to...</td>\n      <td>2</td>\n      <td>1</td>\n      <td>0.75</td>\n      <td>2024-07-25 06:41:03</td>\n      <td>PieceAffectionate460</td>\n      <td>https://kyivindependent.com/china-confirms-it-...</td>\n    </tr>\n  </tbody>\n</table>\n</div>"
     },
     "execution_count": 200,
     "metadata": {},
     "output_type": "execute_result"
    }
   ],
   "source": [
    "df3 = pd.read_csv(\"Data gathering/reddit_ukrainian_conflict_last_30_days___3.csv\")\n",
    "df3.head()"
   ],
   "metadata": {
    "collapsed": false,
    "ExecuteTime": {
     "end_time": "2024-08-21T18:11:26.458661Z",
     "start_time": "2024-08-21T18:11:26.396957Z"
    }
   },
   "id": "ee4ab621bf62e38"
  },
  {
   "cell_type": "code",
   "execution_count": 201,
   "outputs": [
    {
     "data": {
      "text/plain": "        id                                              title  score  \\\n0  1enu793  Updated: 700 bombs destroyed in Ukrainian stri...     25   \n1  1enu0os  Chechen commander admits Russian losses, Ukrai...     25   \n2  1entw1j  Drones hit an ammunition depot at a Russian mi...     24   \n3  1entu6m  Ukraine downs all 27 Russian kamikaze UAVs lau...     26   \n4  1entn32  Ukrainian Quick-Cash Company Owners Are Russia...     13   \n\n   num_comments  upvote_ratio          created_utc                author  \\\n0             1          1.00  2024-08-09 08:08:01  Unlikely-Friend-5108   \n1             7          1.00  2024-08-09 07:55:35           KI_official   \n2             1          1.00  2024-08-09 07:46:33             Mil_in_ua   \n3             1          1.00  2024-08-09 07:42:54            MantasChan   \n4             2          0.93  2024-08-09 07:28:59               newzee1   \n\n                                                 url  \n0  https://kyivindependent.com/military-airfield-...  \n1  https://kyivindependent.com/chechen-commander-...  \n2  https://mil.in.ua/en/news/drones-hit-an-ammuni...  \n3  https://www.ukrinform.net/rubric-ato/3893474-u...  \n4  https://www.rferl.org/a/ukraine-consumer-loans...  ",
      "text/html": "<div>\n<style scoped>\n    .dataframe tbody tr th:only-of-type {\n        vertical-align: middle;\n    }\n\n    .dataframe tbody tr th {\n        vertical-align: top;\n    }\n\n    .dataframe thead th {\n        text-align: right;\n    }\n</style>\n<table border=\"1\" class=\"dataframe\">\n  <thead>\n    <tr style=\"text-align: right;\">\n      <th></th>\n      <th>id</th>\n      <th>title</th>\n      <th>score</th>\n      <th>num_comments</th>\n      <th>upvote_ratio</th>\n      <th>created_utc</th>\n      <th>author</th>\n      <th>url</th>\n    </tr>\n  </thead>\n  <tbody>\n    <tr>\n      <th>0</th>\n      <td>1enu793</td>\n      <td>Updated: 700 bombs destroyed in Ukrainian stri...</td>\n      <td>25</td>\n      <td>1</td>\n      <td>1.00</td>\n      <td>2024-08-09 08:08:01</td>\n      <td>Unlikely-Friend-5108</td>\n      <td>https://kyivindependent.com/military-airfield-...</td>\n    </tr>\n    <tr>\n      <th>1</th>\n      <td>1enu0os</td>\n      <td>Chechen commander admits Russian losses, Ukrai...</td>\n      <td>25</td>\n      <td>7</td>\n      <td>1.00</td>\n      <td>2024-08-09 07:55:35</td>\n      <td>KI_official</td>\n      <td>https://kyivindependent.com/chechen-commander-...</td>\n    </tr>\n    <tr>\n      <th>2</th>\n      <td>1entw1j</td>\n      <td>Drones hit an ammunition depot at a Russian mi...</td>\n      <td>24</td>\n      <td>1</td>\n      <td>1.00</td>\n      <td>2024-08-09 07:46:33</td>\n      <td>Mil_in_ua</td>\n      <td>https://mil.in.ua/en/news/drones-hit-an-ammuni...</td>\n    </tr>\n    <tr>\n      <th>3</th>\n      <td>1entu6m</td>\n      <td>Ukraine downs all 27 Russian kamikaze UAVs lau...</td>\n      <td>26</td>\n      <td>1</td>\n      <td>1.00</td>\n      <td>2024-08-09 07:42:54</td>\n      <td>MantasChan</td>\n      <td>https://www.ukrinform.net/rubric-ato/3893474-u...</td>\n    </tr>\n    <tr>\n      <th>4</th>\n      <td>1entn32</td>\n      <td>Ukrainian Quick-Cash Company Owners Are Russia...</td>\n      <td>13</td>\n      <td>2</td>\n      <td>0.93</td>\n      <td>2024-08-09 07:28:59</td>\n      <td>newzee1</td>\n      <td>https://www.rferl.org/a/ukraine-consumer-loans...</td>\n    </tr>\n  </tbody>\n</table>\n</div>"
     },
     "execution_count": 201,
     "metadata": {},
     "output_type": "execute_result"
    }
   ],
   "source": [
    "df4 = pd.read_csv(\"Data gathering/reddit_ukrainian_conflict_last_30_days___4.csv\")\n",
    "df4.head()"
   ],
   "metadata": {
    "collapsed": false,
    "ExecuteTime": {
     "end_time": "2024-08-21T18:11:26.481411Z",
     "start_time": "2024-08-21T18:11:26.441896Z"
    }
   },
   "id": "91c5e0c24b622af2"
  },
  {
   "cell_type": "code",
   "execution_count": 202,
   "outputs": [],
   "source": [
    "# Merging DataFrames on a common column\n",
    "merged_df = pd.merge(df4, df3, on=\"id\", suffixes=(\"_ua4\", \"_ua3\"))\n",
    "\n",
    "merged_df_ = pd.merge(merged_df, df2, on=\"id\", suffixes=(\"\", \"_ua2\"))  \n",
    "\n",
    "final_df = pd.merge(merged_df_, df1, on=\"id\", suffixes=(\"_ua2\", \"_ua1\"))"
   ],
   "metadata": {
    "collapsed": false,
    "ExecuteTime": {
     "end_time": "2024-08-21T18:11:26.484057Z",
     "start_time": "2024-08-21T18:11:26.456779Z"
    }
   },
   "id": "dfd084cee830208e"
  },
  {
   "cell_type": "code",
   "execution_count": 203,
   "outputs": [
    {
     "data": {
      "text/plain": "           id                                              title  score  \\\n0     1enu793  Updated: 700 bombs destroyed in Ukrainian stri...     25   \n1     1enu0os  Chechen commander admits Russian losses, Ukrai...     25   \n2     1entw1j  Drones hit an ammunition depot at a Russian mi...     24   \n3     1entu6m  Ukraine downs all 27 Russian kamikaze UAVs lau...     26   \n4     1entn32  Ukrainian Quick-Cash Company Owners Are Russia...     13   \n...       ...                                                ...    ...   \n3983  1di0y0a  Russia Tries to Erase Evangelical Churches Fro...    311   \n3984  1di03sb  Romania upgrades strategic air base for Ukrain...    191   \n3985  1di0351  Estonian PM Kaja Kallas – Estonia’s firm voice...     95   \n3986  1di028q    Drone Coalition raised €549 million for Ukraine     40   \n3987  1di00hv  Ukraine hits 15 Russian air defense systems in...    276   \n\n      num_comments  upvote_ratio          created_utc                author  \\\n0                1          1.00  2024-08-09 08:08:01  Unlikely-Friend-5108   \n1                7          1.00  2024-08-09 07:55:35           KI_official   \n2                1          1.00  2024-08-09 07:46:33             Mil_in_ua   \n3                1          1.00  2024-08-09 07:42:54            MantasChan   \n4                2          0.93  2024-08-09 07:28:59               newzee1   \n...            ...           ...                  ...                   ...   \n3983            67          0.98  2024-06-17 15:31:56                Barch3   \n3984             5          1.00  2024-06-17 14:57:26         Orcasystems99   \n3985             2          0.97  2024-06-17 14:56:41          Watcher_2023   \n3986             1          0.92  2024-06-17 14:55:32             Mil_in_ua   \n3987             8          0.99  2024-06-17 14:53:26           KI_official   \n\n                                                    url  \n0     https://kyivindependent.com/military-airfield-...  \n1     https://kyivindependent.com/chechen-commander-...  \n2     https://mil.in.ua/en/news/drones-hit-an-ammuni...  \n3     https://www.ukrinform.net/rubric-ato/3893474-u...  \n4     https://www.rferl.org/a/ukraine-consumer-loans...  \n...                                                 ...  \n3983  https://www.wsj.com/world/russia/russia-tries-...  \n3984  https://uawire.org/romania-upgrades-strategic-...  \n3985  https://tvpworld.com/78257588/kaja-kallas-the-...  \n3986  https://mil.in.ua/en/news/drone-coalition-rais...  \n3987  https://kyivindependent.com/ukraine-strikes-ne...  \n\n[3448 rows x 8 columns]",
      "text/html": "<div>\n<style scoped>\n    .dataframe tbody tr th:only-of-type {\n        vertical-align: middle;\n    }\n\n    .dataframe tbody tr th {\n        vertical-align: top;\n    }\n\n    .dataframe thead th {\n        text-align: right;\n    }\n</style>\n<table border=\"1\" class=\"dataframe\">\n  <thead>\n    <tr style=\"text-align: right;\">\n      <th></th>\n      <th>id</th>\n      <th>title</th>\n      <th>score</th>\n      <th>num_comments</th>\n      <th>upvote_ratio</th>\n      <th>created_utc</th>\n      <th>author</th>\n      <th>url</th>\n    </tr>\n  </thead>\n  <tbody>\n    <tr>\n      <th>0</th>\n      <td>1enu793</td>\n      <td>Updated: 700 bombs destroyed in Ukrainian stri...</td>\n      <td>25</td>\n      <td>1</td>\n      <td>1.00</td>\n      <td>2024-08-09 08:08:01</td>\n      <td>Unlikely-Friend-5108</td>\n      <td>https://kyivindependent.com/military-airfield-...</td>\n    </tr>\n    <tr>\n      <th>1</th>\n      <td>1enu0os</td>\n      <td>Chechen commander admits Russian losses, Ukrai...</td>\n      <td>25</td>\n      <td>7</td>\n      <td>1.00</td>\n      <td>2024-08-09 07:55:35</td>\n      <td>KI_official</td>\n      <td>https://kyivindependent.com/chechen-commander-...</td>\n    </tr>\n    <tr>\n      <th>2</th>\n      <td>1entw1j</td>\n      <td>Drones hit an ammunition depot at a Russian mi...</td>\n      <td>24</td>\n      <td>1</td>\n      <td>1.00</td>\n      <td>2024-08-09 07:46:33</td>\n      <td>Mil_in_ua</td>\n      <td>https://mil.in.ua/en/news/drones-hit-an-ammuni...</td>\n    </tr>\n    <tr>\n      <th>3</th>\n      <td>1entu6m</td>\n      <td>Ukraine downs all 27 Russian kamikaze UAVs lau...</td>\n      <td>26</td>\n      <td>1</td>\n      <td>1.00</td>\n      <td>2024-08-09 07:42:54</td>\n      <td>MantasChan</td>\n      <td>https://www.ukrinform.net/rubric-ato/3893474-u...</td>\n    </tr>\n    <tr>\n      <th>4</th>\n      <td>1entn32</td>\n      <td>Ukrainian Quick-Cash Company Owners Are Russia...</td>\n      <td>13</td>\n      <td>2</td>\n      <td>0.93</td>\n      <td>2024-08-09 07:28:59</td>\n      <td>newzee1</td>\n      <td>https://www.rferl.org/a/ukraine-consumer-loans...</td>\n    </tr>\n    <tr>\n      <th>...</th>\n      <td>...</td>\n      <td>...</td>\n      <td>...</td>\n      <td>...</td>\n      <td>...</td>\n      <td>...</td>\n      <td>...</td>\n      <td>...</td>\n    </tr>\n    <tr>\n      <th>3983</th>\n      <td>1di0y0a</td>\n      <td>Russia Tries to Erase Evangelical Churches Fro...</td>\n      <td>311</td>\n      <td>67</td>\n      <td>0.98</td>\n      <td>2024-06-17 15:31:56</td>\n      <td>Barch3</td>\n      <td>https://www.wsj.com/world/russia/russia-tries-...</td>\n    </tr>\n    <tr>\n      <th>3984</th>\n      <td>1di03sb</td>\n      <td>Romania upgrades strategic air base for Ukrain...</td>\n      <td>191</td>\n      <td>5</td>\n      <td>1.00</td>\n      <td>2024-06-17 14:57:26</td>\n      <td>Orcasystems99</td>\n      <td>https://uawire.org/romania-upgrades-strategic-...</td>\n    </tr>\n    <tr>\n      <th>3985</th>\n      <td>1di0351</td>\n      <td>Estonian PM Kaja Kallas – Estonia’s firm voice...</td>\n      <td>95</td>\n      <td>2</td>\n      <td>0.97</td>\n      <td>2024-06-17 14:56:41</td>\n      <td>Watcher_2023</td>\n      <td>https://tvpworld.com/78257588/kaja-kallas-the-...</td>\n    </tr>\n    <tr>\n      <th>3986</th>\n      <td>1di028q</td>\n      <td>Drone Coalition raised €549 million for Ukraine</td>\n      <td>40</td>\n      <td>1</td>\n      <td>0.92</td>\n      <td>2024-06-17 14:55:32</td>\n      <td>Mil_in_ua</td>\n      <td>https://mil.in.ua/en/news/drone-coalition-rais...</td>\n    </tr>\n    <tr>\n      <th>3987</th>\n      <td>1di00hv</td>\n      <td>Ukraine hits 15 Russian air defense systems in...</td>\n      <td>276</td>\n      <td>8</td>\n      <td>0.99</td>\n      <td>2024-06-17 14:53:26</td>\n      <td>KI_official</td>\n      <td>https://kyivindependent.com/ukraine-strikes-ne...</td>\n    </tr>\n  </tbody>\n</table>\n<p>3448 rows × 8 columns</p>\n</div>"
     },
     "execution_count": 203,
     "metadata": {},
     "output_type": "execute_result"
    }
   ],
   "source": [
    "# Concatenating the DataFrames along the rows (axis=0)\n",
    "concatenated_df = pd.concat([df4, df3, df2, df1], axis=0)\n",
    "concatenated_df.reset_index(drop=True, inplace=True)\n",
    "duplicate_ids = concatenated_df[\"id\"].duplicated(keep=False)\n",
    "\n",
    "# Filtering out rows with those duplicate IDs\n",
    "unique_df = concatenated_df[~duplicate_ids]\n",
    "unique_df"
   ],
   "metadata": {
    "collapsed": false,
    "ExecuteTime": {
     "end_time": "2024-08-21T18:11:26.545432Z",
     "start_time": "2024-08-21T18:11:26.465005Z"
    }
   },
   "id": "95fdc1b8f0198155"
  },
  {
   "cell_type": "code",
   "execution_count": 204,
   "outputs": [],
   "source": [
    "unique_df.to_csv(\"data/unique_df_ua_conflict.csv\", index=False)"
   ],
   "metadata": {
    "collapsed": false,
    "ExecuteTime": {
     "end_time": "2024-08-21T18:11:26.566422Z",
     "start_time": "2024-08-21T18:11:26.484818Z"
    }
   },
   "id": "97100561ed0a0b4d"
  },
  {
   "cell_type": "markdown",
   "source": [
    "## r/Ukraine"
   ],
   "metadata": {
    "collapsed": false
   },
   "id": "f9a9e293bd22173a"
  },
  {
   "cell_type": "code",
   "execution_count": 205,
   "outputs": [
    {
     "data": {
      "text/plain": "        id                                              title  score  \\\n0  1dth5ml  A military base in the Russian city of Kursk i...      9   \n1  1dtg7nn  Ukrainian Armed Forces has proven skill in uti...     69   \n2  1dtfm6l  NATO plans to establish new post in Kyiv, 'Tru...    128   \n3  1dtfkwb  Orban arrives in Kyiv on first visit since beg...     63   \n4  1dtfgd7  Ukraine and The Gambia revive diplomatic relat...     37   \n\n   num_comments  upvote_ratio          created_utc         author  \\\n0             3          1.00  2024-07-02 08:52:49  UNITED24Media   \n1             5          1.00  2024-07-02 07:44:27   santiagodove   \n2             5          0.96  2024-07-02 07:02:45    KI_official   \n3             6          0.96  2024-07-02 07:00:41    KI_official   \n4             5          0.96  2024-07-02 06:51:58    KI_official   \n\n                                                 url  \n0                    https://v.redd.it/uuq2ozvjk2ad1  \n1             https://www.reddit.com/gallery/1dtg7nn  \n2  https://kyivindependent.com/nato-plans-to-esta...  \n3  https://kyivindependent.com/orban-arrives-in-k...  \n4  https://kyivindependent.com/ukraine-and-gambia...  ",
      "text/html": "<div>\n<style scoped>\n    .dataframe tbody tr th:only-of-type {\n        vertical-align: middle;\n    }\n\n    .dataframe tbody tr th {\n        vertical-align: top;\n    }\n\n    .dataframe thead th {\n        text-align: right;\n    }\n</style>\n<table border=\"1\" class=\"dataframe\">\n  <thead>\n    <tr style=\"text-align: right;\">\n      <th></th>\n      <th>id</th>\n      <th>title</th>\n      <th>score</th>\n      <th>num_comments</th>\n      <th>upvote_ratio</th>\n      <th>created_utc</th>\n      <th>author</th>\n      <th>url</th>\n    </tr>\n  </thead>\n  <tbody>\n    <tr>\n      <th>0</th>\n      <td>1dth5ml</td>\n      <td>A military base in the Russian city of Kursk i...</td>\n      <td>9</td>\n      <td>3</td>\n      <td>1.00</td>\n      <td>2024-07-02 08:52:49</td>\n      <td>UNITED24Media</td>\n      <td>https://v.redd.it/uuq2ozvjk2ad1</td>\n    </tr>\n    <tr>\n      <th>1</th>\n      <td>1dtg7nn</td>\n      <td>Ukrainian Armed Forces has proven skill in uti...</td>\n      <td>69</td>\n      <td>5</td>\n      <td>1.00</td>\n      <td>2024-07-02 07:44:27</td>\n      <td>santiagodove</td>\n      <td>https://www.reddit.com/gallery/1dtg7nn</td>\n    </tr>\n    <tr>\n      <th>2</th>\n      <td>1dtfm6l</td>\n      <td>NATO plans to establish new post in Kyiv, 'Tru...</td>\n      <td>128</td>\n      <td>5</td>\n      <td>0.96</td>\n      <td>2024-07-02 07:02:45</td>\n      <td>KI_official</td>\n      <td>https://kyivindependent.com/nato-plans-to-esta...</td>\n    </tr>\n    <tr>\n      <th>3</th>\n      <td>1dtfkwb</td>\n      <td>Orban arrives in Kyiv on first visit since beg...</td>\n      <td>63</td>\n      <td>6</td>\n      <td>0.96</td>\n      <td>2024-07-02 07:00:41</td>\n      <td>KI_official</td>\n      <td>https://kyivindependent.com/orban-arrives-in-k...</td>\n    </tr>\n    <tr>\n      <th>4</th>\n      <td>1dtfgd7</td>\n      <td>Ukraine and The Gambia revive diplomatic relat...</td>\n      <td>37</td>\n      <td>5</td>\n      <td>0.96</td>\n      <td>2024-07-02 06:51:58</td>\n      <td>KI_official</td>\n      <td>https://kyivindependent.com/ukraine-and-gambia...</td>\n    </tr>\n  </tbody>\n</table>\n</div>"
     },
     "execution_count": 205,
     "metadata": {},
     "output_type": "execute_result"
    }
   ],
   "source": [
    "df_ua1 = pd.read_csv(\"Data gathering/reddit_ukraine__1.csv\")\n",
    "df_ua1.head()"
   ],
   "metadata": {
    "collapsed": false,
    "ExecuteTime": {
     "end_time": "2024-08-21T18:11:26.612508Z",
     "start_time": "2024-08-21T18:11:26.503630Z"
    }
   },
   "id": "78be462ef80cca91"
  },
  {
   "cell_type": "code",
   "execution_count": 206,
   "outputs": [
    {
     "data": {
      "text/plain": "        id                                              title  score  \\\n0  1dpucl3                               Thank you, Canada!!!      4   \n1  1dpu9oz  A fire at a military training ground in occupi...     10   \n2  1dpu42j  Ukraine receives EUR 1.9 billion in unconditio...      8   \n3  1dpthsu  Hungarian Prime Minister Viktor Orban approach...     65   \n4  1dpt9xh  Russia attacks Kharkiv residential area, injur...      9   \n\n   num_comments  upvote_ratio          created_utc                author  \\\n0             1          1.00  2024-06-27 15:41:05        sustainUkraine   \n1             3          1.00  2024-06-27 15:37:21  Geschichtsklitterung   \n2             2          1.00  2024-06-27 15:30:33  Geschichtsklitterung   \n3            17          0.97  2024-06-27 15:05:26              Igor0976   \n4             1          0.80  2024-06-27 14:56:25    Jumpy-General-3859   \n\n                                                 url  \n0                    https://v.redd.it/cxdg5ykrw49d1  \n1  https://mstdn.social/@noelreports/112688164906...  \n2              https://ukranews.com/en/news/1016162-  \n3                    https://v.redd.it/vlwclrtaq49d1  \n4  https://gwaramedia.com/en/russia-attacks-khark...  ",
      "text/html": "<div>\n<style scoped>\n    .dataframe tbody tr th:only-of-type {\n        vertical-align: middle;\n    }\n\n    .dataframe tbody tr th {\n        vertical-align: top;\n    }\n\n    .dataframe thead th {\n        text-align: right;\n    }\n</style>\n<table border=\"1\" class=\"dataframe\">\n  <thead>\n    <tr style=\"text-align: right;\">\n      <th></th>\n      <th>id</th>\n      <th>title</th>\n      <th>score</th>\n      <th>num_comments</th>\n      <th>upvote_ratio</th>\n      <th>created_utc</th>\n      <th>author</th>\n      <th>url</th>\n    </tr>\n  </thead>\n  <tbody>\n    <tr>\n      <th>0</th>\n      <td>1dpucl3</td>\n      <td>Thank you, Canada!!!</td>\n      <td>4</td>\n      <td>1</td>\n      <td>1.00</td>\n      <td>2024-06-27 15:41:05</td>\n      <td>sustainUkraine</td>\n      <td>https://v.redd.it/cxdg5ykrw49d1</td>\n    </tr>\n    <tr>\n      <th>1</th>\n      <td>1dpu9oz</td>\n      <td>A fire at a military training ground in occupi...</td>\n      <td>10</td>\n      <td>3</td>\n      <td>1.00</td>\n      <td>2024-06-27 15:37:21</td>\n      <td>Geschichtsklitterung</td>\n      <td>https://mstdn.social/@noelreports/112688164906...</td>\n    </tr>\n    <tr>\n      <th>2</th>\n      <td>1dpu42j</td>\n      <td>Ukraine receives EUR 1.9 billion in unconditio...</td>\n      <td>8</td>\n      <td>2</td>\n      <td>1.00</td>\n      <td>2024-06-27 15:30:33</td>\n      <td>Geschichtsklitterung</td>\n      <td>https://ukranews.com/en/news/1016162-</td>\n    </tr>\n    <tr>\n      <th>3</th>\n      <td>1dpthsu</td>\n      <td>Hungarian Prime Minister Viktor Orban approach...</td>\n      <td>65</td>\n      <td>17</td>\n      <td>0.97</td>\n      <td>2024-06-27 15:05:26</td>\n      <td>Igor0976</td>\n      <td>https://v.redd.it/vlwclrtaq49d1</td>\n    </tr>\n    <tr>\n      <th>4</th>\n      <td>1dpt9xh</td>\n      <td>Russia attacks Kharkiv residential area, injur...</td>\n      <td>9</td>\n      <td>1</td>\n      <td>0.80</td>\n      <td>2024-06-27 14:56:25</td>\n      <td>Jumpy-General-3859</td>\n      <td>https://gwaramedia.com/en/russia-attacks-khark...</td>\n    </tr>\n  </tbody>\n</table>\n</div>"
     },
     "execution_count": 206,
     "metadata": {},
     "output_type": "execute_result"
    }
   ],
   "source": [
    "df_ua2 = pd.read_csv(\"Data gathering/reddit_ukraine__2.csv\")\n",
    "df_ua2.head()"
   ],
   "metadata": {
    "collapsed": false,
    "ExecuteTime": {
     "end_time": "2024-08-21T18:11:26.612795Z",
     "start_time": "2024-08-21T18:11:26.515563Z"
    }
   },
   "id": "cf6b366b6fd1ebea"
  },
  {
   "cell_type": "code",
   "execution_count": 207,
   "outputs": [
    {
     "data": {
      "text/plain": "        id                                              title  score  \\\n0  1e3w37r  Kyiv Region and Utah Forge Strategic Alliance ...      7   \n1  1e3vlza                               Illegal Medications?      8   \n2  1e3vcxq  Russian full-scale invasion killed 561 childre...     17   \n3  1e3v9ik  Pletenchuk: Russia has withdrawn the last patr...     60   \n4  1e3uvw9    NATO launches Ukraine command centre in Germany     53   \n\n   num_comments  upvote_ratio          created_utc              author  \\\n0             1          1.00  2024-07-15 14:25:08       UNITED24Media   \n1             3          1.00  2024-07-15 14:04:58               Inv3y   \n2             1          1.00  2024-07-15 13:54:17  Jumpy-General-3859   \n3             1          1.00  2024-07-15 13:50:07           Mil_in_ua   \n4             2          0.99  2024-07-15 13:32:44     Sine_Fine_Belli   \n\n                                                 url  \n0  https://united24media.com/latest-news/kyiv-reg...  \n1  https://www.reddit.com/r/ukraine/comments/1e3v...  \n2  https://gwaramedia.com/en/russian-full-scale-i...  \n3  https://mil.in.ua/en/news/pletenchuk-russia-ha...  \n4  https://www.euronews.com/2024/07/15/nato-launc...  ",
      "text/html": "<div>\n<style scoped>\n    .dataframe tbody tr th:only-of-type {\n        vertical-align: middle;\n    }\n\n    .dataframe tbody tr th {\n        vertical-align: top;\n    }\n\n    .dataframe thead th {\n        text-align: right;\n    }\n</style>\n<table border=\"1\" class=\"dataframe\">\n  <thead>\n    <tr style=\"text-align: right;\">\n      <th></th>\n      <th>id</th>\n      <th>title</th>\n      <th>score</th>\n      <th>num_comments</th>\n      <th>upvote_ratio</th>\n      <th>created_utc</th>\n      <th>author</th>\n      <th>url</th>\n    </tr>\n  </thead>\n  <tbody>\n    <tr>\n      <th>0</th>\n      <td>1e3w37r</td>\n      <td>Kyiv Region and Utah Forge Strategic Alliance ...</td>\n      <td>7</td>\n      <td>1</td>\n      <td>1.00</td>\n      <td>2024-07-15 14:25:08</td>\n      <td>UNITED24Media</td>\n      <td>https://united24media.com/latest-news/kyiv-reg...</td>\n    </tr>\n    <tr>\n      <th>1</th>\n      <td>1e3vlza</td>\n      <td>Illegal Medications?</td>\n      <td>8</td>\n      <td>3</td>\n      <td>1.00</td>\n      <td>2024-07-15 14:04:58</td>\n      <td>Inv3y</td>\n      <td>https://www.reddit.com/r/ukraine/comments/1e3v...</td>\n    </tr>\n    <tr>\n      <th>2</th>\n      <td>1e3vcxq</td>\n      <td>Russian full-scale invasion killed 561 childre...</td>\n      <td>17</td>\n      <td>1</td>\n      <td>1.00</td>\n      <td>2024-07-15 13:54:17</td>\n      <td>Jumpy-General-3859</td>\n      <td>https://gwaramedia.com/en/russian-full-scale-i...</td>\n    </tr>\n    <tr>\n      <th>3</th>\n      <td>1e3v9ik</td>\n      <td>Pletenchuk: Russia has withdrawn the last patr...</td>\n      <td>60</td>\n      <td>1</td>\n      <td>1.00</td>\n      <td>2024-07-15 13:50:07</td>\n      <td>Mil_in_ua</td>\n      <td>https://mil.in.ua/en/news/pletenchuk-russia-ha...</td>\n    </tr>\n    <tr>\n      <th>4</th>\n      <td>1e3uvw9</td>\n      <td>NATO launches Ukraine command centre in Germany</td>\n      <td>53</td>\n      <td>2</td>\n      <td>0.99</td>\n      <td>2024-07-15 13:32:44</td>\n      <td>Sine_Fine_Belli</td>\n      <td>https://www.euronews.com/2024/07/15/nato-launc...</td>\n    </tr>\n  </tbody>\n</table>\n</div>"
     },
     "execution_count": 207,
     "metadata": {},
     "output_type": "execute_result"
    }
   ],
   "source": [
    "df_ua3 = pd.read_csv(\"Data gathering/reddit_ukraine__3.csv\")\n",
    "df_ua3.head()"
   ],
   "metadata": {
    "collapsed": false,
    "ExecuteTime": {
     "end_time": "2024-08-21T18:11:26.614184Z",
     "start_time": "2024-08-21T18:11:26.529217Z"
    }
   },
   "id": "6fe837399e9d14ff"
  },
  {
   "cell_type": "code",
   "execution_count": 208,
   "outputs": [
    {
     "data": {
      "text/plain": "        id                                              title  score  \\\n0  1enu93g  Ukrainian forces' swift advance into Kursk Obl...     18   \n1  1enu7c7  Defeating Russia Is The Best Thing We Could Do...     27   \n2  1enu3hy  Russians are sending concrete bomb shelters to...     54   \n3  1enu0md                                🗣️ I have a dream       25   \n4  1entvyj  Drones hit an ammunition depot at a Russian mi...     44   \n\n   num_comments  upvote_ratio          created_utc            author  \\\n0             1          0.91  2024-08-09 08:11:43     The_New_Voice   \n1             2          0.96  2024-08-09 08:08:12  TradingLeagueshq   \n2             7          0.98  2024-08-09 08:00:48     TotalSpaceNut   \n3             3          0.96  2024-08-09 07:55:27           lykos45   \n4             4          0.98  2024-08-09 07:46:22         Mil_in_ua   \n\n                                                 url  \n0  https://english.nv.ua/nation/ukrainian-forces-...  \n1  https://www.rferl.org/a/timothy-snyder-russia-...  \n2               https://i.redd.it/e9cnj6sqhlhd1.jpeg  \n3                https://i.redd.it/salnzzwvglhd1.png  \n4  https://mil.in.ua/en/news/drones-hit-an-ammuni...  ",
      "text/html": "<div>\n<style scoped>\n    .dataframe tbody tr th:only-of-type {\n        vertical-align: middle;\n    }\n\n    .dataframe tbody tr th {\n        vertical-align: top;\n    }\n\n    .dataframe thead th {\n        text-align: right;\n    }\n</style>\n<table border=\"1\" class=\"dataframe\">\n  <thead>\n    <tr style=\"text-align: right;\">\n      <th></th>\n      <th>id</th>\n      <th>title</th>\n      <th>score</th>\n      <th>num_comments</th>\n      <th>upvote_ratio</th>\n      <th>created_utc</th>\n      <th>author</th>\n      <th>url</th>\n    </tr>\n  </thead>\n  <tbody>\n    <tr>\n      <th>0</th>\n      <td>1enu93g</td>\n      <td>Ukrainian forces' swift advance into Kursk Obl...</td>\n      <td>18</td>\n      <td>1</td>\n      <td>0.91</td>\n      <td>2024-08-09 08:11:43</td>\n      <td>The_New_Voice</td>\n      <td>https://english.nv.ua/nation/ukrainian-forces-...</td>\n    </tr>\n    <tr>\n      <th>1</th>\n      <td>1enu7c7</td>\n      <td>Defeating Russia Is The Best Thing We Could Do...</td>\n      <td>27</td>\n      <td>2</td>\n      <td>0.96</td>\n      <td>2024-08-09 08:08:12</td>\n      <td>TradingLeagueshq</td>\n      <td>https://www.rferl.org/a/timothy-snyder-russia-...</td>\n    </tr>\n    <tr>\n      <th>2</th>\n      <td>1enu3hy</td>\n      <td>Russians are sending concrete bomb shelters to...</td>\n      <td>54</td>\n      <td>7</td>\n      <td>0.98</td>\n      <td>2024-08-09 08:00:48</td>\n      <td>TotalSpaceNut</td>\n      <td>https://i.redd.it/e9cnj6sqhlhd1.jpeg</td>\n    </tr>\n    <tr>\n      <th>3</th>\n      <td>1enu0md</td>\n      <td>🗣️ I have a dream</td>\n      <td>25</td>\n      <td>3</td>\n      <td>0.96</td>\n      <td>2024-08-09 07:55:27</td>\n      <td>lykos45</td>\n      <td>https://i.redd.it/salnzzwvglhd1.png</td>\n    </tr>\n    <tr>\n      <th>4</th>\n      <td>1entvyj</td>\n      <td>Drones hit an ammunition depot at a Russian mi...</td>\n      <td>44</td>\n      <td>4</td>\n      <td>0.98</td>\n      <td>2024-08-09 07:46:22</td>\n      <td>Mil_in_ua</td>\n      <td>https://mil.in.ua/en/news/drones-hit-an-ammuni...</td>\n    </tr>\n  </tbody>\n</table>\n</div>"
     },
     "execution_count": 208,
     "metadata": {},
     "output_type": "execute_result"
    }
   ],
   "source": [
    "df_ua4 = pd.read_csv(\"Data gathering/reddit_ukraine__4.csv\")\n",
    "df_ua4.head()"
   ],
   "metadata": {
    "collapsed": false,
    "ExecuteTime": {
     "end_time": "2024-08-21T18:11:26.616240Z",
     "start_time": "2024-08-21T18:11:26.540513Z"
    }
   },
   "id": "e7994806fe5ddb69"
  },
  {
   "cell_type": "code",
   "execution_count": 209,
   "outputs": [],
   "source": [
    "# Merging DataFrames on a common column\n",
    "merged_df_1 = pd.merge(df_ua4, df_ua3, on=\"id\", suffixes=(\"_ua4\", \"_ua3\"))\n",
    "\n",
    "merged_df_2 = pd.merge(merged_df_1, df_ua2, on=\"id\", suffixes=(\"\", \"_ua2\"))  \n",
    "\n",
    "final_df_1 = pd.merge(merged_df_2, df_ua1, on=\"id\", suffixes=(\"_ua2\", \"_ua1\"))\n"
   ],
   "metadata": {
    "collapsed": false,
    "ExecuteTime": {
     "end_time": "2024-08-21T18:11:26.616386Z",
     "start_time": "2024-08-21T18:11:26.554641Z"
    }
   },
   "id": "e3546d04d81394b0"
  },
  {
   "cell_type": "code",
   "execution_count": 210,
   "outputs": [
    {
     "data": {
      "text/plain": "           id                                              title  score  \\\n0     1enu93g  Ukrainian forces' swift advance into Kursk Obl...     18   \n1     1enu7c7  Defeating Russia Is The Best Thing We Could Do...     27   \n2     1enu3hy  Russians are sending concrete bomb shelters to...     54   \n3     1enu0md                                🗣️ I have a dream       25   \n4     1entvyj  Drones hit an ammunition depot at a Russian mi...     44   \n...       ...                                                ...    ...   \n3184  1dpvwyr            2024 Paris Olympic Mens Gymnastic Team      76   \n3185  1dpvmjv  Russians started vandalizing Tauric Chersonesu...    686   \n3186  1dpvoty  Zelenskiy says Russia’s recent offensive shows...    538   \n3187  1dpv692        Morale is high for our Colombian volunteers   2501   \n3188  1dpukps  Poland and the Baltic states called on the EU ...    253   \n\n      num_comments  upvote_ratio          created_utc            author  \\\n0                1          0.91  2024-08-09 08:11:43     The_New_Voice   \n1                2          0.96  2024-08-09 08:08:12  TradingLeagueshq   \n2                7          0.98  2024-08-09 08:00:48     TotalSpaceNut   \n3                3          0.96  2024-08-09 07:55:27           lykos45   \n4                4          0.98  2024-08-09 07:46:22         Mil_in_ua   \n...            ...           ...                  ...               ...   \n3184             2          0.98  2024-06-27 16:46:16           Dubchek   \n3185            12          0.99  2024-06-27 16:34:21     HydrolicKrane   \n3186            10          1.00  2024-06-27 16:37:02         misana123   \n3187            56          0.99  2024-06-27 16:15:50     TotalSpaceNut   \n3188             6          1.00  2024-06-27 15:50:49         Mil_in_ua   \n\n                                                    url  \n0     https://english.nv.ua/nation/ukrainian-forces-...  \n1     https://www.rferl.org/a/timothy-snyder-russia-...  \n2                  https://i.redd.it/e9cnj6sqhlhd1.jpeg  \n3                   https://i.redd.it/salnzzwvglhd1.png  \n4     https://mil.in.ua/en/news/drones-hit-an-ammuni...  \n...                                                 ...  \n3184  https://www.reddit.com/r/Gymnastics/comments/1...  \n3185  https://u-krane.com/tauric-chersonesus-in-crim...  \n3186  https://www.theguardian.com/world/article/2024...  \n3187                    https://v.redd.it/td19lyny259d1  \n3188  https://mil.in.ua/en/news/poland-and-the-balti...  \n\n[2045 rows x 8 columns]",
      "text/html": "<div>\n<style scoped>\n    .dataframe tbody tr th:only-of-type {\n        vertical-align: middle;\n    }\n\n    .dataframe tbody tr th {\n        vertical-align: top;\n    }\n\n    .dataframe thead th {\n        text-align: right;\n    }\n</style>\n<table border=\"1\" class=\"dataframe\">\n  <thead>\n    <tr style=\"text-align: right;\">\n      <th></th>\n      <th>id</th>\n      <th>title</th>\n      <th>score</th>\n      <th>num_comments</th>\n      <th>upvote_ratio</th>\n      <th>created_utc</th>\n      <th>author</th>\n      <th>url</th>\n    </tr>\n  </thead>\n  <tbody>\n    <tr>\n      <th>0</th>\n      <td>1enu93g</td>\n      <td>Ukrainian forces' swift advance into Kursk Obl...</td>\n      <td>18</td>\n      <td>1</td>\n      <td>0.91</td>\n      <td>2024-08-09 08:11:43</td>\n      <td>The_New_Voice</td>\n      <td>https://english.nv.ua/nation/ukrainian-forces-...</td>\n    </tr>\n    <tr>\n      <th>1</th>\n      <td>1enu7c7</td>\n      <td>Defeating Russia Is The Best Thing We Could Do...</td>\n      <td>27</td>\n      <td>2</td>\n      <td>0.96</td>\n      <td>2024-08-09 08:08:12</td>\n      <td>TradingLeagueshq</td>\n      <td>https://www.rferl.org/a/timothy-snyder-russia-...</td>\n    </tr>\n    <tr>\n      <th>2</th>\n      <td>1enu3hy</td>\n      <td>Russians are sending concrete bomb shelters to...</td>\n      <td>54</td>\n      <td>7</td>\n      <td>0.98</td>\n      <td>2024-08-09 08:00:48</td>\n      <td>TotalSpaceNut</td>\n      <td>https://i.redd.it/e9cnj6sqhlhd1.jpeg</td>\n    </tr>\n    <tr>\n      <th>3</th>\n      <td>1enu0md</td>\n      <td>🗣️ I have a dream</td>\n      <td>25</td>\n      <td>3</td>\n      <td>0.96</td>\n      <td>2024-08-09 07:55:27</td>\n      <td>lykos45</td>\n      <td>https://i.redd.it/salnzzwvglhd1.png</td>\n    </tr>\n    <tr>\n      <th>4</th>\n      <td>1entvyj</td>\n      <td>Drones hit an ammunition depot at a Russian mi...</td>\n      <td>44</td>\n      <td>4</td>\n      <td>0.98</td>\n      <td>2024-08-09 07:46:22</td>\n      <td>Mil_in_ua</td>\n      <td>https://mil.in.ua/en/news/drones-hit-an-ammuni...</td>\n    </tr>\n    <tr>\n      <th>...</th>\n      <td>...</td>\n      <td>...</td>\n      <td>...</td>\n      <td>...</td>\n      <td>...</td>\n      <td>...</td>\n      <td>...</td>\n      <td>...</td>\n    </tr>\n    <tr>\n      <th>3184</th>\n      <td>1dpvwyr</td>\n      <td>2024 Paris Olympic Mens Gymnastic Team</td>\n      <td>76</td>\n      <td>2</td>\n      <td>0.98</td>\n      <td>2024-06-27 16:46:16</td>\n      <td>Dubchek</td>\n      <td>https://www.reddit.com/r/Gymnastics/comments/1...</td>\n    </tr>\n    <tr>\n      <th>3185</th>\n      <td>1dpvmjv</td>\n      <td>Russians started vandalizing Tauric Chersonesu...</td>\n      <td>686</td>\n      <td>12</td>\n      <td>0.99</td>\n      <td>2024-06-27 16:34:21</td>\n      <td>HydrolicKrane</td>\n      <td>https://u-krane.com/tauric-chersonesus-in-crim...</td>\n    </tr>\n    <tr>\n      <th>3186</th>\n      <td>1dpvoty</td>\n      <td>Zelenskiy says Russia’s recent offensive shows...</td>\n      <td>538</td>\n      <td>10</td>\n      <td>1.00</td>\n      <td>2024-06-27 16:37:02</td>\n      <td>misana123</td>\n      <td>https://www.theguardian.com/world/article/2024...</td>\n    </tr>\n    <tr>\n      <th>3187</th>\n      <td>1dpv692</td>\n      <td>Morale is high for our Colombian volunteers</td>\n      <td>2501</td>\n      <td>56</td>\n      <td>0.99</td>\n      <td>2024-06-27 16:15:50</td>\n      <td>TotalSpaceNut</td>\n      <td>https://v.redd.it/td19lyny259d1</td>\n    </tr>\n    <tr>\n      <th>3188</th>\n      <td>1dpukps</td>\n      <td>Poland and the Baltic states called on the EU ...</td>\n      <td>253</td>\n      <td>6</td>\n      <td>1.00</td>\n      <td>2024-06-27 15:50:49</td>\n      <td>Mil_in_ua</td>\n      <td>https://mil.in.ua/en/news/poland-and-the-balti...</td>\n    </tr>\n  </tbody>\n</table>\n<p>2045 rows × 8 columns</p>\n</div>"
     },
     "execution_count": 210,
     "metadata": {},
     "output_type": "execute_result"
    }
   ],
   "source": [
    "# Concatenating the DataFrames along the columns (axis=1)\n",
    "concatenated_df_1 = pd.concat([df_ua4, df_ua3, df_ua2, df_ua1], axis=0)\n",
    "concatenated_df_1.reset_index(drop=True, inplace=True)\n",
    "duplicate_ids = concatenated_df_1[\"id\"].duplicated(keep=False)\n",
    "\n",
    "# Filtering out rows with those duplicate IDs\n",
    "unique_df_1 = concatenated_df_1[~duplicate_ids]\n",
    "unique_df_1"
   ],
   "metadata": {
    "collapsed": false,
    "ExecuteTime": {
     "end_time": "2024-08-21T18:11:26.641640Z",
     "start_time": "2024-08-21T18:11:26.559691Z"
    }
   },
   "id": "ed5320b33b5a28ae"
  },
  {
   "cell_type": "code",
   "execution_count": 211,
   "outputs": [],
   "source": [
    "unique_df_1.to_csv(\"data/unique_df_ua.csv\", index=False)"
   ],
   "metadata": {
    "collapsed": false,
    "ExecuteTime": {
     "end_time": "2024-08-21T18:11:26.641815Z",
     "start_time": "2024-08-21T18:11:26.567876Z"
    }
   },
   "id": "659bbd8b9d4e816"
  },
  {
   "cell_type": "markdown",
   "source": [
    "## Combining both datasets"
   ],
   "metadata": {
    "collapsed": false
   },
   "id": "cfd7488d91ece247"
  },
  {
   "cell_type": "code",
   "execution_count": 212,
   "outputs": [
    {
     "data": {
      "text/plain": "           id                                              title  score  \\\n0     1enu793  Updated: 700 bombs destroyed in Ukrainian stri...     25   \n1     1enu0os  Chechen commander admits Russian losses, Ukrai...     25   \n2     1entw1j  Drones hit an ammunition depot at a Russian mi...     24   \n3     1entu6m  Ukraine downs all 27 Russian kamikaze UAVs lau...     26   \n4     1entn32  Ukrainian Quick-Cash Company Owners Are Russia...     13   \n...       ...                                                ...    ...   \n5488  1dpvwyr            2024 Paris Olympic Mens Gymnastic Team      76   \n5489  1dpvmjv  Russians started vandalizing Tauric Chersonesu...    686   \n5490  1dpvoty  Zelenskiy says Russia’s recent offensive shows...    538   \n5491  1dpv692        Morale is high for our Colombian volunteers   2501   \n5492  1dpukps  Poland and the Baltic states called on the EU ...    253   \n\n      num_comments  upvote_ratio          created_utc                author  \\\n0                1          1.00  2024-08-09 08:08:01  Unlikely-Friend-5108   \n1                7          1.00  2024-08-09 07:55:35           KI_official   \n2                1          1.00  2024-08-09 07:46:33             Mil_in_ua   \n3                1          1.00  2024-08-09 07:42:54            MantasChan   \n4                2          0.93  2024-08-09 07:28:59               newzee1   \n...            ...           ...                  ...                   ...   \n5488             2          0.98  2024-06-27 16:46:16               Dubchek   \n5489            12          0.99  2024-06-27 16:34:21         HydrolicKrane   \n5490            10          1.00  2024-06-27 16:37:02             misana123   \n5491            56          0.99  2024-06-27 16:15:50         TotalSpaceNut   \n5492             6          1.00  2024-06-27 15:50:49             Mil_in_ua   \n\n                                                    url  \n0     https://kyivindependent.com/military-airfield-...  \n1     https://kyivindependent.com/chechen-commander-...  \n2     https://mil.in.ua/en/news/drones-hit-an-ammuni...  \n3     https://www.ukrinform.net/rubric-ato/3893474-u...  \n4     https://www.rferl.org/a/ukraine-consumer-loans...  \n...                                                 ...  \n5488  https://www.reddit.com/r/Gymnastics/comments/1...  \n5489  https://u-krane.com/tauric-chersonesus-in-crim...  \n5490  https://www.theguardian.com/world/article/2024...  \n5491                    https://v.redd.it/td19lyny259d1  \n5492  https://mil.in.ua/en/news/poland-and-the-balti...  \n\n[5493 rows x 8 columns]",
      "text/html": "<div>\n<style scoped>\n    .dataframe tbody tr th:only-of-type {\n        vertical-align: middle;\n    }\n\n    .dataframe tbody tr th {\n        vertical-align: top;\n    }\n\n    .dataframe thead th {\n        text-align: right;\n    }\n</style>\n<table border=\"1\" class=\"dataframe\">\n  <thead>\n    <tr style=\"text-align: right;\">\n      <th></th>\n      <th>id</th>\n      <th>title</th>\n      <th>score</th>\n      <th>num_comments</th>\n      <th>upvote_ratio</th>\n      <th>created_utc</th>\n      <th>author</th>\n      <th>url</th>\n    </tr>\n  </thead>\n  <tbody>\n    <tr>\n      <th>0</th>\n      <td>1enu793</td>\n      <td>Updated: 700 bombs destroyed in Ukrainian stri...</td>\n      <td>25</td>\n      <td>1</td>\n      <td>1.00</td>\n      <td>2024-08-09 08:08:01</td>\n      <td>Unlikely-Friend-5108</td>\n      <td>https://kyivindependent.com/military-airfield-...</td>\n    </tr>\n    <tr>\n      <th>1</th>\n      <td>1enu0os</td>\n      <td>Chechen commander admits Russian losses, Ukrai...</td>\n      <td>25</td>\n      <td>7</td>\n      <td>1.00</td>\n      <td>2024-08-09 07:55:35</td>\n      <td>KI_official</td>\n      <td>https://kyivindependent.com/chechen-commander-...</td>\n    </tr>\n    <tr>\n      <th>2</th>\n      <td>1entw1j</td>\n      <td>Drones hit an ammunition depot at a Russian mi...</td>\n      <td>24</td>\n      <td>1</td>\n      <td>1.00</td>\n      <td>2024-08-09 07:46:33</td>\n      <td>Mil_in_ua</td>\n      <td>https://mil.in.ua/en/news/drones-hit-an-ammuni...</td>\n    </tr>\n    <tr>\n      <th>3</th>\n      <td>1entu6m</td>\n      <td>Ukraine downs all 27 Russian kamikaze UAVs lau...</td>\n      <td>26</td>\n      <td>1</td>\n      <td>1.00</td>\n      <td>2024-08-09 07:42:54</td>\n      <td>MantasChan</td>\n      <td>https://www.ukrinform.net/rubric-ato/3893474-u...</td>\n    </tr>\n    <tr>\n      <th>4</th>\n      <td>1entn32</td>\n      <td>Ukrainian Quick-Cash Company Owners Are Russia...</td>\n      <td>13</td>\n      <td>2</td>\n      <td>0.93</td>\n      <td>2024-08-09 07:28:59</td>\n      <td>newzee1</td>\n      <td>https://www.rferl.org/a/ukraine-consumer-loans...</td>\n    </tr>\n    <tr>\n      <th>...</th>\n      <td>...</td>\n      <td>...</td>\n      <td>...</td>\n      <td>...</td>\n      <td>...</td>\n      <td>...</td>\n      <td>...</td>\n      <td>...</td>\n    </tr>\n    <tr>\n      <th>5488</th>\n      <td>1dpvwyr</td>\n      <td>2024 Paris Olympic Mens Gymnastic Team</td>\n      <td>76</td>\n      <td>2</td>\n      <td>0.98</td>\n      <td>2024-06-27 16:46:16</td>\n      <td>Dubchek</td>\n      <td>https://www.reddit.com/r/Gymnastics/comments/1...</td>\n    </tr>\n    <tr>\n      <th>5489</th>\n      <td>1dpvmjv</td>\n      <td>Russians started vandalizing Tauric Chersonesu...</td>\n      <td>686</td>\n      <td>12</td>\n      <td>0.99</td>\n      <td>2024-06-27 16:34:21</td>\n      <td>HydrolicKrane</td>\n      <td>https://u-krane.com/tauric-chersonesus-in-crim...</td>\n    </tr>\n    <tr>\n      <th>5490</th>\n      <td>1dpvoty</td>\n      <td>Zelenskiy says Russia’s recent offensive shows...</td>\n      <td>538</td>\n      <td>10</td>\n      <td>1.00</td>\n      <td>2024-06-27 16:37:02</td>\n      <td>misana123</td>\n      <td>https://www.theguardian.com/world/article/2024...</td>\n    </tr>\n    <tr>\n      <th>5491</th>\n      <td>1dpv692</td>\n      <td>Morale is high for our Colombian volunteers</td>\n      <td>2501</td>\n      <td>56</td>\n      <td>0.99</td>\n      <td>2024-06-27 16:15:50</td>\n      <td>TotalSpaceNut</td>\n      <td>https://v.redd.it/td19lyny259d1</td>\n    </tr>\n    <tr>\n      <th>5492</th>\n      <td>1dpukps</td>\n      <td>Poland and the Baltic states called on the EU ...</td>\n      <td>253</td>\n      <td>6</td>\n      <td>1.00</td>\n      <td>2024-06-27 15:50:49</td>\n      <td>Mil_in_ua</td>\n      <td>https://mil.in.ua/en/news/poland-and-the-balti...</td>\n    </tr>\n  </tbody>\n</table>\n<p>5493 rows × 8 columns</p>\n</div>"
     },
     "execution_count": 212,
     "metadata": {},
     "output_type": "execute_result"
    }
   ],
   "source": [
    "combined_df = pd.concat([unique_df, unique_df_1], ignore_index=True)\n",
    "combined_df"
   ],
   "metadata": {
    "collapsed": false,
    "ExecuteTime": {
     "end_time": "2024-08-21T18:11:26.657845Z",
     "start_time": "2024-08-21T18:11:26.580962Z"
    }
   },
   "id": "4316b2858f52a39b"
  },
  {
   "cell_type": "code",
   "execution_count": 213,
   "outputs": [],
   "source": [
    "combined_df.to_csv(\"data/total_data.csv\", index=False)"
   ],
   "metadata": {
    "collapsed": false,
    "ExecuteTime": {
     "end_time": "2024-08-21T18:11:26.662049Z",
     "start_time": "2024-08-21T18:11:26.590387Z"
    }
   },
   "id": "ba74cabeaaea3c15"
  },
  {
   "cell_type": "markdown",
   "source": [
    "## r/Geopolitics"
   ],
   "metadata": {
    "collapsed": false
   },
   "id": "4c93685613922c93"
  },
  {
   "cell_type": "code",
   "execution_count": 214,
   "outputs": [
    {
     "data": {
      "text/plain": "          id                                              title  score  \\\n0    1evzsbg  Ukraine officials order evacuation of families...      3   \n1    1evz50c  Is the West Bank situation and today attempted...      0   \n2    1evyhs2  The Pentagon Is Planning a Drone ‘Hellscape’ t...    102   \n3    1evwmj9  China and Philippines trade blame after ships ...     40   \n4    1evrs3b  Will General Secretary Tô Lâm lead to any subs...     15   \n..       ...                                                ...    ...   \n824  1d6b1a6              Do you trust numbers in Geopolitics?      12   \n825  1d69se1                         NATO/OTAN in north africa       0   \n826  1d5v3ee  Biden Outlines Israeli Proposal for Ceasefire ...     42   \n827  1d5tij5  The failing ANC is rejected by over half of So...    384   \n828  1d5nm4d  Russia launches large-scale missile attack on ...    152   \n\n     num_comments  upvote_ratio          created_utc                author  \\\n0               0          0.64  2024-08-19 11:53:11    Beratungsmarketing   \n1               2          0.45  2024-08-19 11:15:54  Psychological-Flow55   \n2              45          0.95  2024-08-19 10:36:37         wiredmagazine   \n3               4          0.98  2024-08-19 08:28:20               nbcnews   \n4               4          0.81  2024-08-19 03:15:18               Vassonx   \n..            ...           ...                  ...                   ...   \n824            21          0.65  2024-06-02 11:16:25             Gerakison   \n825            13          0.42  2024-06-02 09:49:55  Away_Independence_71   \n826            45          0.79  2024-06-01 19:44:26   Acceptable_Fail2015   \n827            48          0.92  2024-06-01 18:31:57             taike0886   \n828            28          0.98  2024-06-01 14:00:20     butterweedstrover   \n\n                                                   url  \n0    https://timesofindia.indiatimes.com/world/euro...  \n1    https://www.reddit.com/r/geopolitics/comments/...  \n2    https://www.reddit.com/r/geopolitics/comments/...  \n3    https://www.nbcnews.com/news/world/china-accus...  \n4    https://www.reddit.com/r/geopolitics/comments/...  \n..                                                 ...  \n824  https://www.reddit.com/r/geopolitics/comments/...  \n825  https://www.reddit.com/r/geopolitics/comments/...  \n826  https://topnews.co.ke/biden-outlines-israeli-p...  \n827  https://www.economist.com/middle-east-and-afri...  \n828  https://kyivindependent.com/russia-launches-la...  \n\n[829 rows x 8 columns]",
      "text/html": "<div>\n<style scoped>\n    .dataframe tbody tr th:only-of-type {\n        vertical-align: middle;\n    }\n\n    .dataframe tbody tr th {\n        vertical-align: top;\n    }\n\n    .dataframe thead th {\n        text-align: right;\n    }\n</style>\n<table border=\"1\" class=\"dataframe\">\n  <thead>\n    <tr style=\"text-align: right;\">\n      <th></th>\n      <th>id</th>\n      <th>title</th>\n      <th>score</th>\n      <th>num_comments</th>\n      <th>upvote_ratio</th>\n      <th>created_utc</th>\n      <th>author</th>\n      <th>url</th>\n    </tr>\n  </thead>\n  <tbody>\n    <tr>\n      <th>0</th>\n      <td>1evzsbg</td>\n      <td>Ukraine officials order evacuation of families...</td>\n      <td>3</td>\n      <td>0</td>\n      <td>0.64</td>\n      <td>2024-08-19 11:53:11</td>\n      <td>Beratungsmarketing</td>\n      <td>https://timesofindia.indiatimes.com/world/euro...</td>\n    </tr>\n    <tr>\n      <th>1</th>\n      <td>1evz50c</td>\n      <td>Is the West Bank situation and today attempted...</td>\n      <td>0</td>\n      <td>2</td>\n      <td>0.45</td>\n      <td>2024-08-19 11:15:54</td>\n      <td>Psychological-Flow55</td>\n      <td>https://www.reddit.com/r/geopolitics/comments/...</td>\n    </tr>\n    <tr>\n      <th>2</th>\n      <td>1evyhs2</td>\n      <td>The Pentagon Is Planning a Drone ‘Hellscape’ t...</td>\n      <td>102</td>\n      <td>45</td>\n      <td>0.95</td>\n      <td>2024-08-19 10:36:37</td>\n      <td>wiredmagazine</td>\n      <td>https://www.reddit.com/r/geopolitics/comments/...</td>\n    </tr>\n    <tr>\n      <th>3</th>\n      <td>1evwmj9</td>\n      <td>China and Philippines trade blame after ships ...</td>\n      <td>40</td>\n      <td>4</td>\n      <td>0.98</td>\n      <td>2024-08-19 08:28:20</td>\n      <td>nbcnews</td>\n      <td>https://www.nbcnews.com/news/world/china-accus...</td>\n    </tr>\n    <tr>\n      <th>4</th>\n      <td>1evrs3b</td>\n      <td>Will General Secretary Tô Lâm lead to any subs...</td>\n      <td>15</td>\n      <td>4</td>\n      <td>0.81</td>\n      <td>2024-08-19 03:15:18</td>\n      <td>Vassonx</td>\n      <td>https://www.reddit.com/r/geopolitics/comments/...</td>\n    </tr>\n    <tr>\n      <th>...</th>\n      <td>...</td>\n      <td>...</td>\n      <td>...</td>\n      <td>...</td>\n      <td>...</td>\n      <td>...</td>\n      <td>...</td>\n      <td>...</td>\n    </tr>\n    <tr>\n      <th>824</th>\n      <td>1d6b1a6</td>\n      <td>Do you trust numbers in Geopolitics?</td>\n      <td>12</td>\n      <td>21</td>\n      <td>0.65</td>\n      <td>2024-06-02 11:16:25</td>\n      <td>Gerakison</td>\n      <td>https://www.reddit.com/r/geopolitics/comments/...</td>\n    </tr>\n    <tr>\n      <th>825</th>\n      <td>1d69se1</td>\n      <td>NATO/OTAN in north africa</td>\n      <td>0</td>\n      <td>13</td>\n      <td>0.42</td>\n      <td>2024-06-02 09:49:55</td>\n      <td>Away_Independence_71</td>\n      <td>https://www.reddit.com/r/geopolitics/comments/...</td>\n    </tr>\n    <tr>\n      <th>826</th>\n      <td>1d5v3ee</td>\n      <td>Biden Outlines Israeli Proposal for Ceasefire ...</td>\n      <td>42</td>\n      <td>45</td>\n      <td>0.79</td>\n      <td>2024-06-01 19:44:26</td>\n      <td>Acceptable_Fail2015</td>\n      <td>https://topnews.co.ke/biden-outlines-israeli-p...</td>\n    </tr>\n    <tr>\n      <th>827</th>\n      <td>1d5tij5</td>\n      <td>The failing ANC is rejected by over half of So...</td>\n      <td>384</td>\n      <td>48</td>\n      <td>0.92</td>\n      <td>2024-06-01 18:31:57</td>\n      <td>taike0886</td>\n      <td>https://www.economist.com/middle-east-and-afri...</td>\n    </tr>\n    <tr>\n      <th>828</th>\n      <td>1d5nm4d</td>\n      <td>Russia launches large-scale missile attack on ...</td>\n      <td>152</td>\n      <td>28</td>\n      <td>0.98</td>\n      <td>2024-06-01 14:00:20</td>\n      <td>butterweedstrover</td>\n      <td>https://kyivindependent.com/russia-launches-la...</td>\n    </tr>\n  </tbody>\n</table>\n<p>829 rows × 8 columns</p>\n</div>"
     },
     "execution_count": 214,
     "metadata": {},
     "output_type": "execute_result"
    }
   ],
   "source": [
    "df_geopolit_raw = pd.read_csv(\"data/geopolitics_data.csv\")\n",
    "df_geopolit_raw"
   ],
   "metadata": {
    "collapsed": false,
    "ExecuteTime": {
     "end_time": "2024-08-21T18:11:26.690508Z",
     "start_time": "2024-08-21T18:11:26.613592Z"
    }
   },
   "id": "186905d1744d6d69"
  },
  {
   "cell_type": "markdown",
   "source": [
    "## Data preprocessing"
   ],
   "metadata": {
    "collapsed": false
   },
   "id": "afa99efa24ce008c"
  },
  {
   "cell_type": "code",
   "execution_count": 215,
   "outputs": [
    {
     "name": "stderr",
     "output_type": "stream",
     "text": [
      "/var/folders/x9/4vdx7j915qg5pvqlbqynp2dr0000gn/T/ipykernel_4247/525788265.py:10: SettingWithCopyWarning: \n",
      "A value is trying to be set on a copy of a slice from a DataFrame.\n",
      "Try using .loc[row_indexer,col_indexer] = value instead\n",
      "\n",
      "See the caveats in the documentation: https://pandas.pydata.org/pandas-docs/stable/user_guide/indexing.html#returning-a-view-versus-a-copy\n",
      "  df_ukr_conflict[\"title\"] = df_ukr_conflict[\"title\"].apply(remove_html_tags)\n",
      "/var/folders/x9/4vdx7j915qg5pvqlbqynp2dr0000gn/T/ipykernel_4247/525788265.py:13: SettingWithCopyWarning: \n",
      "A value is trying to be set on a copy of a slice from a DataFrame.\n",
      "Try using .loc[row_indexer,col_indexer] = value instead\n",
      "\n",
      "See the caveats in the documentation: https://pandas.pydata.org/pandas-docs/stable/user_guide/indexing.html#returning-a-view-versus-a-copy\n",
      "  df_ukr_conflict[\"title\"] = df_ukr_conflict[\"title\"].str.lower()\n"
     ]
    },
    {
     "data": {
      "text/plain": "           id                                              title  score  \\\n1     1enu0os  chechen commander admits russian losses, ukrai...     25   \n5     1entf03  aftermath of the nighttime strike on the russi...    254   \n7     1ensol1   mexico rejects ukraine's request to arrest putin     19   \n8     1ensmdl  s.t.a.l.k.e.r. game developers help purchase 1...    226   \n14    1enrudg  russian army loses 1,030 more soldiers in ukra...     58   \n...       ...                                                ...    ...   \n3980  1di1rc2  1/ uac delivered a batch of new-production su-...     53   \n3981  1di1nld  ukraine war latest: huge explosion reported in...     80   \n3983  1di0y0a  russia tries to erase evangelical churches fro...    311   \n3984  1di03sb  romania upgrades strategic air base for ukrain...    191   \n3987  1di00hv  ukraine hits 15 russian air defense systems in...    276   \n\n      num_comments  upvote_ratio          created_utc          author  \\\n1                7          1.00  2024-08-09 07:55:35     KI_official   \n5               51          1.00  2024-08-09 07:13:25        Guudbaad   \n7               11          0.83  2024-08-09 06:25:35        LIGA_net   \n8               17          1.00  2024-08-09 06:21:38      MantasChan   \n14              11          0.96  2024-08-09 05:32:48      MantasChan   \n...            ...           ...                  ...             ...   \n3980            25          0.86  2024-06-17 16:05:36       rulepanic   \n3981             6          0.94  2024-06-17 16:01:32  AbleismIsSatan   \n3983            67          0.98  2024-06-17 15:31:56          Barch3   \n3984             5          1.00  2024-06-17 14:57:26   Orcasystems99   \n3987             8          0.99  2024-06-17 14:53:26     KI_official   \n\n                                                    url  \n1     https://kyivindependent.com/chechen-commander-...  \n5                         https://streamable.com/8bh9xu  \n7     https://news.liga.net/en/politics/news/mexico-...  \n8     https://www.ukrinform.net/rubric-society/38934...  \n14    https://www.ukrinform.net/rubric-ato/3893460-r...  \n...                                                 ...  \n3980  https://twitter.com/GuyPlopsky/status/18025963...  \n3981  https://news.sky.com/story/ukraine-war-latest-...  \n3983  https://www.wsj.com/world/russia/russia-tries-...  \n3984  https://uawire.org/romania-upgrades-strategic-...  \n3987  https://kyivindependent.com/ukraine-strikes-ne...  \n\n[1683 rows x 8 columns]",
      "text/html": "<div>\n<style scoped>\n    .dataframe tbody tr th:only-of-type {\n        vertical-align: middle;\n    }\n\n    .dataframe tbody tr th {\n        vertical-align: top;\n    }\n\n    .dataframe thead th {\n        text-align: right;\n    }\n</style>\n<table border=\"1\" class=\"dataframe\">\n  <thead>\n    <tr style=\"text-align: right;\">\n      <th></th>\n      <th>id</th>\n      <th>title</th>\n      <th>score</th>\n      <th>num_comments</th>\n      <th>upvote_ratio</th>\n      <th>created_utc</th>\n      <th>author</th>\n      <th>url</th>\n    </tr>\n  </thead>\n  <tbody>\n    <tr>\n      <th>1</th>\n      <td>1enu0os</td>\n      <td>chechen commander admits russian losses, ukrai...</td>\n      <td>25</td>\n      <td>7</td>\n      <td>1.00</td>\n      <td>2024-08-09 07:55:35</td>\n      <td>KI_official</td>\n      <td>https://kyivindependent.com/chechen-commander-...</td>\n    </tr>\n    <tr>\n      <th>5</th>\n      <td>1entf03</td>\n      <td>aftermath of the nighttime strike on the russi...</td>\n      <td>254</td>\n      <td>51</td>\n      <td>1.00</td>\n      <td>2024-08-09 07:13:25</td>\n      <td>Guudbaad</td>\n      <td>https://streamable.com/8bh9xu</td>\n    </tr>\n    <tr>\n      <th>7</th>\n      <td>1ensol1</td>\n      <td>mexico rejects ukraine's request to arrest putin</td>\n      <td>19</td>\n      <td>11</td>\n      <td>0.83</td>\n      <td>2024-08-09 06:25:35</td>\n      <td>LIGA_net</td>\n      <td>https://news.liga.net/en/politics/news/mexico-...</td>\n    </tr>\n    <tr>\n      <th>8</th>\n      <td>1ensmdl</td>\n      <td>s.t.a.l.k.e.r. game developers help purchase 1...</td>\n      <td>226</td>\n      <td>17</td>\n      <td>1.00</td>\n      <td>2024-08-09 06:21:38</td>\n      <td>MantasChan</td>\n      <td>https://www.ukrinform.net/rubric-society/38934...</td>\n    </tr>\n    <tr>\n      <th>14</th>\n      <td>1enrudg</td>\n      <td>russian army loses 1,030 more soldiers in ukra...</td>\n      <td>58</td>\n      <td>11</td>\n      <td>0.96</td>\n      <td>2024-08-09 05:32:48</td>\n      <td>MantasChan</td>\n      <td>https://www.ukrinform.net/rubric-ato/3893460-r...</td>\n    </tr>\n    <tr>\n      <th>...</th>\n      <td>...</td>\n      <td>...</td>\n      <td>...</td>\n      <td>...</td>\n      <td>...</td>\n      <td>...</td>\n      <td>...</td>\n      <td>...</td>\n    </tr>\n    <tr>\n      <th>3980</th>\n      <td>1di1rc2</td>\n      <td>1/ uac delivered a batch of new-production su-...</td>\n      <td>53</td>\n      <td>25</td>\n      <td>0.86</td>\n      <td>2024-06-17 16:05:36</td>\n      <td>rulepanic</td>\n      <td>https://twitter.com/GuyPlopsky/status/18025963...</td>\n    </tr>\n    <tr>\n      <th>3981</th>\n      <td>1di1nld</td>\n      <td>ukraine war latest: huge explosion reported in...</td>\n      <td>80</td>\n      <td>6</td>\n      <td>0.94</td>\n      <td>2024-06-17 16:01:32</td>\n      <td>AbleismIsSatan</td>\n      <td>https://news.sky.com/story/ukraine-war-latest-...</td>\n    </tr>\n    <tr>\n      <th>3983</th>\n      <td>1di0y0a</td>\n      <td>russia tries to erase evangelical churches fro...</td>\n      <td>311</td>\n      <td>67</td>\n      <td>0.98</td>\n      <td>2024-06-17 15:31:56</td>\n      <td>Barch3</td>\n      <td>https://www.wsj.com/world/russia/russia-tries-...</td>\n    </tr>\n    <tr>\n      <th>3984</th>\n      <td>1di03sb</td>\n      <td>romania upgrades strategic air base for ukrain...</td>\n      <td>191</td>\n      <td>5</td>\n      <td>1.00</td>\n      <td>2024-06-17 14:57:26</td>\n      <td>Orcasystems99</td>\n      <td>https://uawire.org/romania-upgrades-strategic-...</td>\n    </tr>\n    <tr>\n      <th>3987</th>\n      <td>1di00hv</td>\n      <td>ukraine hits 15 russian air defense systems in...</td>\n      <td>276</td>\n      <td>8</td>\n      <td>0.99</td>\n      <td>2024-06-17 14:53:26</td>\n      <td>KI_official</td>\n      <td>https://kyivindependent.com/ukraine-strikes-ne...</td>\n    </tr>\n  </tbody>\n</table>\n<p>1683 rows × 8 columns</p>\n</div>"
     },
     "execution_count": 215,
     "metadata": {},
     "output_type": "execute_result"
    }
   ],
   "source": [
    "# Removing posts with less than 5 comments\n",
    "df_ukr_conflict = unique_df[unique_df[\"num_comments\"] >= 5]\n",
    "\n",
    "# Removing HTML tags from the 'title' column\n",
    "def remove_html_tags(text):\n",
    "    \"\"\" The function is removing HTML tags using regex\"\"\"\n",
    "    clean = re.compile(\"<.*?>\")\n",
    "    return re.sub(clean, \"\", text)\n",
    "\n",
    "df_ukr_conflict[\"title\"] = df_ukr_conflict[\"title\"].apply(remove_html_tags)\n",
    "\n",
    "# Step 3: Convert the 'title' column to lowercase\n",
    "df_ukr_conflict[\"title\"] = df_ukr_conflict[\"title\"].str.lower()\n",
    "df_ukr_conflict"
   ],
   "metadata": {
    "collapsed": false,
    "ExecuteTime": {
     "end_time": "2024-08-21T18:11:26.691314Z",
     "start_time": "2024-08-21T18:11:26.624740Z"
    }
   },
   "id": "4bc4fba95763d20b"
  },
  {
   "cell_type": "code",
   "execution_count": 216,
   "outputs": [],
   "source": [
    "# Saving the DataFrame to a CSV file\n",
    "csv_file = \"data/r_ukr_conflict.csv\"\n",
    "df_ukr_conflict.to_csv(csv_file, index=False)"
   ],
   "metadata": {
    "collapsed": false,
    "ExecuteTime": {
     "end_time": "2024-08-21T18:11:26.701828Z",
     "start_time": "2024-08-21T18:11:26.633678Z"
    }
   },
   "id": "d45ae8629a76d59"
  },
  {
   "cell_type": "code",
   "execution_count": 217,
   "outputs": [
    {
     "name": "stderr",
     "output_type": "stream",
     "text": [
      "/var/folders/x9/4vdx7j915qg5pvqlbqynp2dr0000gn/T/ipykernel_4247/477657158.py:10: SettingWithCopyWarning: \n",
      "A value is trying to be set on a copy of a slice from a DataFrame.\n",
      "Try using .loc[row_indexer,col_indexer] = value instead\n",
      "\n",
      "See the caveats in the documentation: https://pandas.pydata.org/pandas-docs/stable/user_guide/indexing.html#returning-a-view-versus-a-copy\n",
      "  df_ukraine[\"title\"] = df_ukraine[\"title\"].apply(remove_html_tags)\n",
      "/var/folders/x9/4vdx7j915qg5pvqlbqynp2dr0000gn/T/ipykernel_4247/477657158.py:13: SettingWithCopyWarning: \n",
      "A value is trying to be set on a copy of a slice from a DataFrame.\n",
      "Try using .loc[row_indexer,col_indexer] = value instead\n",
      "\n",
      "See the caveats in the documentation: https://pandas.pydata.org/pandas-docs/stable/user_guide/indexing.html#returning-a-view-versus-a-copy\n",
      "  df_ukraine[\"title\"] = df_ukraine[\"title\"].str.lower()\n"
     ]
    },
    {
     "data": {
      "text/plain": "           id                                              title  score  \\\n2     1enu3hy  russians are sending concrete bomb shelters to...     54   \n7     1entptu                                  current situation    132   \n8     1ent6tb  the column that was destroyed near rylsk in th...    822   \n10    1ens3ml  former white house security staffer dropping t...    287   \n12    1enr48u  wonderful!  16-year-old taisiia onofriichuk pe...    294   \n...       ...                                                ...    ...   \n3183  1dpvygs  ukraine and european union sign security agree...    142   \n3185  1dpvmjv  russians started vandalizing tauric chersonesu...    686   \n3186  1dpvoty  zelenskiy says russia’s recent offensive shows...    538   \n3187  1dpv692        morale is high for our colombian volunteers   2501   \n3188  1dpukps  poland and the baltic states called on the eu ...    253   \n\n      num_comments  upvote_ratio          created_utc               author  \\\n2                7          0.98  2024-08-09 08:00:48        TotalSpaceNut   \n7                5          0.99  2024-08-09 07:34:22               Andes_   \n8              114          0.99  2024-08-09 06:58:30              onesole   \n10               5          0.99  2024-08-09 05:48:54  LilLebowskiAchiever   \n12              14          1.00  2024-08-09 04:50:24           REpassword   \n...            ...           ...                  ...                  ...   \n3183             5          1.00  2024-06-27 16:47:56            Mil_in_ua   \n3185            12          0.99  2024-06-27 16:34:21        HydrolicKrane   \n3186            10          1.00  2024-06-27 16:37:02            misana123   \n3187            56          0.99  2024-06-27 16:15:50        TotalSpaceNut   \n3188             6          1.00  2024-06-27 15:50:49            Mil_in_ua   \n\n                                                    url  \n2                  https://i.redd.it/e9cnj6sqhlhd1.jpeg  \n7                       https://v.redd.it/ctwuvjw3dlhd1  \n8                       https://v.redd.it/h58ju9fs6lhd1  \n10    https://nitter.poast.org/Angry_Staffer/status/...  \n12                      https://v.redd.it/5yop04yxjkhd1  \n...                                                 ...  \n3183  https://mil.in.ua/en/news/ukraine-and-european...  \n3185  https://u-krane.com/tauric-chersonesus-in-crim...  \n3186  https://www.theguardian.com/world/article/2024...  \n3187                    https://v.redd.it/td19lyny259d1  \n3188  https://mil.in.ua/en/news/poland-and-the-balti...  \n\n[1329 rows x 8 columns]",
      "text/html": "<div>\n<style scoped>\n    .dataframe tbody tr th:only-of-type {\n        vertical-align: middle;\n    }\n\n    .dataframe tbody tr th {\n        vertical-align: top;\n    }\n\n    .dataframe thead th {\n        text-align: right;\n    }\n</style>\n<table border=\"1\" class=\"dataframe\">\n  <thead>\n    <tr style=\"text-align: right;\">\n      <th></th>\n      <th>id</th>\n      <th>title</th>\n      <th>score</th>\n      <th>num_comments</th>\n      <th>upvote_ratio</th>\n      <th>created_utc</th>\n      <th>author</th>\n      <th>url</th>\n    </tr>\n  </thead>\n  <tbody>\n    <tr>\n      <th>2</th>\n      <td>1enu3hy</td>\n      <td>russians are sending concrete bomb shelters to...</td>\n      <td>54</td>\n      <td>7</td>\n      <td>0.98</td>\n      <td>2024-08-09 08:00:48</td>\n      <td>TotalSpaceNut</td>\n      <td>https://i.redd.it/e9cnj6sqhlhd1.jpeg</td>\n    </tr>\n    <tr>\n      <th>7</th>\n      <td>1entptu</td>\n      <td>current situation</td>\n      <td>132</td>\n      <td>5</td>\n      <td>0.99</td>\n      <td>2024-08-09 07:34:22</td>\n      <td>Andes_</td>\n      <td>https://v.redd.it/ctwuvjw3dlhd1</td>\n    </tr>\n    <tr>\n      <th>8</th>\n      <td>1ent6tb</td>\n      <td>the column that was destroyed near rylsk in th...</td>\n      <td>822</td>\n      <td>114</td>\n      <td>0.99</td>\n      <td>2024-08-09 06:58:30</td>\n      <td>onesole</td>\n      <td>https://v.redd.it/h58ju9fs6lhd1</td>\n    </tr>\n    <tr>\n      <th>10</th>\n      <td>1ens3ml</td>\n      <td>former white house security staffer dropping t...</td>\n      <td>287</td>\n      <td>5</td>\n      <td>0.99</td>\n      <td>2024-08-09 05:48:54</td>\n      <td>LilLebowskiAchiever</td>\n      <td>https://nitter.poast.org/Angry_Staffer/status/...</td>\n    </tr>\n    <tr>\n      <th>12</th>\n      <td>1enr48u</td>\n      <td>wonderful!  16-year-old taisiia onofriichuk pe...</td>\n      <td>294</td>\n      <td>14</td>\n      <td>1.00</td>\n      <td>2024-08-09 04:50:24</td>\n      <td>REpassword</td>\n      <td>https://v.redd.it/5yop04yxjkhd1</td>\n    </tr>\n    <tr>\n      <th>...</th>\n      <td>...</td>\n      <td>...</td>\n      <td>...</td>\n      <td>...</td>\n      <td>...</td>\n      <td>...</td>\n      <td>...</td>\n      <td>...</td>\n    </tr>\n    <tr>\n      <th>3183</th>\n      <td>1dpvygs</td>\n      <td>ukraine and european union sign security agree...</td>\n      <td>142</td>\n      <td>5</td>\n      <td>1.00</td>\n      <td>2024-06-27 16:47:56</td>\n      <td>Mil_in_ua</td>\n      <td>https://mil.in.ua/en/news/ukraine-and-european...</td>\n    </tr>\n    <tr>\n      <th>3185</th>\n      <td>1dpvmjv</td>\n      <td>russians started vandalizing tauric chersonesu...</td>\n      <td>686</td>\n      <td>12</td>\n      <td>0.99</td>\n      <td>2024-06-27 16:34:21</td>\n      <td>HydrolicKrane</td>\n      <td>https://u-krane.com/tauric-chersonesus-in-crim...</td>\n    </tr>\n    <tr>\n      <th>3186</th>\n      <td>1dpvoty</td>\n      <td>zelenskiy says russia’s recent offensive shows...</td>\n      <td>538</td>\n      <td>10</td>\n      <td>1.00</td>\n      <td>2024-06-27 16:37:02</td>\n      <td>misana123</td>\n      <td>https://www.theguardian.com/world/article/2024...</td>\n    </tr>\n    <tr>\n      <th>3187</th>\n      <td>1dpv692</td>\n      <td>morale is high for our colombian volunteers</td>\n      <td>2501</td>\n      <td>56</td>\n      <td>0.99</td>\n      <td>2024-06-27 16:15:50</td>\n      <td>TotalSpaceNut</td>\n      <td>https://v.redd.it/td19lyny259d1</td>\n    </tr>\n    <tr>\n      <th>3188</th>\n      <td>1dpukps</td>\n      <td>poland and the baltic states called on the eu ...</td>\n      <td>253</td>\n      <td>6</td>\n      <td>1.00</td>\n      <td>2024-06-27 15:50:49</td>\n      <td>Mil_in_ua</td>\n      <td>https://mil.in.ua/en/news/poland-and-the-balti...</td>\n    </tr>\n  </tbody>\n</table>\n<p>1329 rows × 8 columns</p>\n</div>"
     },
     "execution_count": 217,
     "metadata": {},
     "output_type": "execute_result"
    }
   ],
   "source": [
    "# Removing posts with less than 10 comments\n",
    "df_ukraine = unique_df_1[unique_df_1[\"num_comments\"] >= 5]\n",
    "\n",
    "# Removing HTML tags from the 'title' column\n",
    "def remove_html_tags(text):\n",
    "    \"\"\" The function is removing HTML tags using regex\"\"\"\n",
    "    clean = re.compile(\"<.*?>\")\n",
    "    return re.sub(clean, \"\", text)\n",
    "\n",
    "df_ukraine[\"title\"] = df_ukraine[\"title\"].apply(remove_html_tags)\n",
    "\n",
    "# Converting the 'title' column to lowercase\n",
    "df_ukraine[\"title\"] = df_ukraine[\"title\"].str.lower()\n",
    "df_ukraine"
   ],
   "metadata": {
    "collapsed": false,
    "ExecuteTime": {
     "end_time": "2024-08-21T18:11:26.744656Z",
     "start_time": "2024-08-21T18:11:26.644165Z"
    }
   },
   "id": "cac17c164bb4089a"
  },
  {
   "cell_type": "code",
   "execution_count": 218,
   "outputs": [],
   "source": [
    "# Saving the DataFrame to a CSV file\n",
    "csv_file = \"data/r_ua.csv\"\n",
    "df_ukraine.to_csv(csv_file, index=False)"
   ],
   "metadata": {
    "collapsed": false,
    "ExecuteTime": {
     "end_time": "2024-08-21T18:11:26.756450Z",
     "start_time": "2024-08-21T18:11:26.652704Z"
    }
   },
   "id": "9ed20456897bcb2f"
  },
  {
   "cell_type": "code",
   "execution_count": 219,
   "outputs": [
    {
     "name": "stderr",
     "output_type": "stream",
     "text": [
      "/var/folders/x9/4vdx7j915qg5pvqlbqynp2dr0000gn/T/ipykernel_4247/2641973725.py:10: SettingWithCopyWarning: \n",
      "A value is trying to be set on a copy of a slice from a DataFrame.\n",
      "Try using .loc[row_indexer,col_indexer] = value instead\n",
      "\n",
      "See the caveats in the documentation: https://pandas.pydata.org/pandas-docs/stable/user_guide/indexing.html#returning-a-view-versus-a-copy\n",
      "  df_geopolit[\"title\"] = df_geopolit[\"title\"].apply(remove_html_tags)\n",
      "/var/folders/x9/4vdx7j915qg5pvqlbqynp2dr0000gn/T/ipykernel_4247/2641973725.py:13: SettingWithCopyWarning: \n",
      "A value is trying to be set on a copy of a slice from a DataFrame.\n",
      "Try using .loc[row_indexer,col_indexer] = value instead\n",
      "\n",
      "See the caveats in the documentation: https://pandas.pydata.org/pandas-docs/stable/user_guide/indexing.html#returning-a-view-versus-a-copy\n",
      "  df_geopolit[\"title\"] = df_geopolit[\"title\"].str.lower()\n"
     ]
    },
    {
     "data": {
      "text/plain": "          id                                              title  score  \\\n2    1evyhs2  the pentagon is planning a drone ‘hellscape’ t...    102   \n5    1evnutv                   life sentence: 25 years of putin     61   \n6    1evlh7h  belarussian army near ukraine's border. what w...    110   \n8    1evgbm7  “we underestimated the courage of the ukrainia...    346   \n10   1evciu5  nine ukrainians on trial in russia face life s...     45   \n..       ...                                                ...    ...   \n824  1d6b1a6              do you trust numbers in geopolitics?      12   \n825  1d69se1                         nato/otan in north africa       0   \n826  1d5v3ee  biden outlines israeli proposal for ceasefire ...     42   \n827  1d5tij5  the failing anc is rejected by over half of so...    384   \n828  1d5nm4d  russia launches large-scale missile attack on ...    152   \n\n     num_comments  upvote_ratio          created_utc                author  \\\n2              45          0.95  2024-08-19 10:36:37         wiredmagazine   \n5               5          0.85  2024-08-18 23:58:52               CEPAORG   \n6              62          0.89  2024-08-18 22:10:10      Its_average_wdym   \n8              50          0.87  2024-08-18 18:33:12              ua-stena   \n10              6          0.75  2024-08-18 15:52:29            Netlar2686   \n..            ...           ...                  ...                   ...   \n824            21          0.65  2024-06-02 11:16:25             Gerakison   \n825            13          0.42  2024-06-02 09:49:55  Away_Independence_71   \n826            45          0.79  2024-06-01 19:44:26   Acceptable_Fail2015   \n827            48          0.92  2024-06-01 18:31:57             taike0886   \n828            28          0.98  2024-06-01 14:00:20     butterweedstrover   \n\n                                                   url  \n2    https://www.reddit.com/r/geopolitics/comments/...  \n5    https://cepa.org/article/life-sentence-25-year...  \n6    https://www.reddit.com/r/geopolitics/comments/...  \n8    https://ua-stena.info/en/we-underestimated-the...  \n10   https://united24media.com/latest-news/nine-ukr...  \n..                                                 ...  \n824  https://www.reddit.com/r/geopolitics/comments/...  \n825  https://www.reddit.com/r/geopolitics/comments/...  \n826  https://topnews.co.ke/biden-outlines-israeli-p...  \n827  https://www.economist.com/middle-east-and-afri...  \n828  https://kyivindependent.com/russia-launches-la...  \n\n[673 rows x 8 columns]",
      "text/html": "<div>\n<style scoped>\n    .dataframe tbody tr th:only-of-type {\n        vertical-align: middle;\n    }\n\n    .dataframe tbody tr th {\n        vertical-align: top;\n    }\n\n    .dataframe thead th {\n        text-align: right;\n    }\n</style>\n<table border=\"1\" class=\"dataframe\">\n  <thead>\n    <tr style=\"text-align: right;\">\n      <th></th>\n      <th>id</th>\n      <th>title</th>\n      <th>score</th>\n      <th>num_comments</th>\n      <th>upvote_ratio</th>\n      <th>created_utc</th>\n      <th>author</th>\n      <th>url</th>\n    </tr>\n  </thead>\n  <tbody>\n    <tr>\n      <th>2</th>\n      <td>1evyhs2</td>\n      <td>the pentagon is planning a drone ‘hellscape’ t...</td>\n      <td>102</td>\n      <td>45</td>\n      <td>0.95</td>\n      <td>2024-08-19 10:36:37</td>\n      <td>wiredmagazine</td>\n      <td>https://www.reddit.com/r/geopolitics/comments/...</td>\n    </tr>\n    <tr>\n      <th>5</th>\n      <td>1evnutv</td>\n      <td>life sentence: 25 years of putin</td>\n      <td>61</td>\n      <td>5</td>\n      <td>0.85</td>\n      <td>2024-08-18 23:58:52</td>\n      <td>CEPAORG</td>\n      <td>https://cepa.org/article/life-sentence-25-year...</td>\n    </tr>\n    <tr>\n      <th>6</th>\n      <td>1evlh7h</td>\n      <td>belarussian army near ukraine's border. what w...</td>\n      <td>110</td>\n      <td>62</td>\n      <td>0.89</td>\n      <td>2024-08-18 22:10:10</td>\n      <td>Its_average_wdym</td>\n      <td>https://www.reddit.com/r/geopolitics/comments/...</td>\n    </tr>\n    <tr>\n      <th>8</th>\n      <td>1evgbm7</td>\n      <td>“we underestimated the courage of the ukrainia...</td>\n      <td>346</td>\n      <td>50</td>\n      <td>0.87</td>\n      <td>2024-08-18 18:33:12</td>\n      <td>ua-stena</td>\n      <td>https://ua-stena.info/en/we-underestimated-the...</td>\n    </tr>\n    <tr>\n      <th>10</th>\n      <td>1evciu5</td>\n      <td>nine ukrainians on trial in russia face life s...</td>\n      <td>45</td>\n      <td>6</td>\n      <td>0.75</td>\n      <td>2024-08-18 15:52:29</td>\n      <td>Netlar2686</td>\n      <td>https://united24media.com/latest-news/nine-ukr...</td>\n    </tr>\n    <tr>\n      <th>...</th>\n      <td>...</td>\n      <td>...</td>\n      <td>...</td>\n      <td>...</td>\n      <td>...</td>\n      <td>...</td>\n      <td>...</td>\n      <td>...</td>\n    </tr>\n    <tr>\n      <th>824</th>\n      <td>1d6b1a6</td>\n      <td>do you trust numbers in geopolitics?</td>\n      <td>12</td>\n      <td>21</td>\n      <td>0.65</td>\n      <td>2024-06-02 11:16:25</td>\n      <td>Gerakison</td>\n      <td>https://www.reddit.com/r/geopolitics/comments/...</td>\n    </tr>\n    <tr>\n      <th>825</th>\n      <td>1d69se1</td>\n      <td>nato/otan in north africa</td>\n      <td>0</td>\n      <td>13</td>\n      <td>0.42</td>\n      <td>2024-06-02 09:49:55</td>\n      <td>Away_Independence_71</td>\n      <td>https://www.reddit.com/r/geopolitics/comments/...</td>\n    </tr>\n    <tr>\n      <th>826</th>\n      <td>1d5v3ee</td>\n      <td>biden outlines israeli proposal for ceasefire ...</td>\n      <td>42</td>\n      <td>45</td>\n      <td>0.79</td>\n      <td>2024-06-01 19:44:26</td>\n      <td>Acceptable_Fail2015</td>\n      <td>https://topnews.co.ke/biden-outlines-israeli-p...</td>\n    </tr>\n    <tr>\n      <th>827</th>\n      <td>1d5tij5</td>\n      <td>the failing anc is rejected by over half of so...</td>\n      <td>384</td>\n      <td>48</td>\n      <td>0.92</td>\n      <td>2024-06-01 18:31:57</td>\n      <td>taike0886</td>\n      <td>https://www.economist.com/middle-east-and-afri...</td>\n    </tr>\n    <tr>\n      <th>828</th>\n      <td>1d5nm4d</td>\n      <td>russia launches large-scale missile attack on ...</td>\n      <td>152</td>\n      <td>28</td>\n      <td>0.98</td>\n      <td>2024-06-01 14:00:20</td>\n      <td>butterweedstrover</td>\n      <td>https://kyivindependent.com/russia-launches-la...</td>\n    </tr>\n  </tbody>\n</table>\n<p>673 rows × 8 columns</p>\n</div>"
     },
     "execution_count": 219,
     "metadata": {},
     "output_type": "execute_result"
    }
   ],
   "source": [
    "# Removing posts with less than 10 comments\n",
    "df_geopolit= df_geopolit_raw[df_geopolit_raw[\"num_comments\"] >= 5]\n",
    "\n",
    "# Removing HTML tags from the 'title' column\n",
    "def remove_html_tags(text):\n",
    "    \"\"\" The function is removing HTML tags using regex\"\"\"\n",
    "    clean = re.compile(\"<.*?>\")\n",
    "    return re.sub(clean, \"\", text)\n",
    "\n",
    "df_geopolit[\"title\"] = df_geopolit[\"title\"].apply(remove_html_tags)\n",
    "\n",
    "# Converting the 'title' column to lowercase\n",
    "df_geopolit[\"title\"] = df_geopolit[\"title\"].str.lower()\n",
    "df_geopolit"
   ],
   "metadata": {
    "collapsed": false,
    "ExecuteTime": {
     "end_time": "2024-08-21T18:11:26.758074Z",
     "start_time": "2024-08-21T18:11:26.661378Z"
    }
   },
   "id": "7cd31c7424ee187a"
  },
  {
   "cell_type": "code",
   "execution_count": 220,
   "outputs": [],
   "source": [
    "# Saving the DataFrame to a CSV file\n",
    "csv_file = \"data/r_geopolit.csv\"\n",
    "df_geopolit.to_csv(csv_file, index=False)"
   ],
   "metadata": {
    "collapsed": false,
    "ExecuteTime": {
     "end_time": "2024-08-21T18:11:26.758259Z",
     "start_time": "2024-08-21T18:11:26.667537Z"
    }
   },
   "id": "598d21798402e6f2"
  },
  {
   "cell_type": "code",
   "execution_count": 221,
   "outputs": [
    {
     "name": "stdout",
     "output_type": "stream",
     "text": [
      "Original DataFrame size: 1683\n",
      "Bootstrap DataFrame size: 16830\n"
     ]
    }
   ],
   "source": [
    "# Define the number of bootstrap samples you want to create\n",
    "n_bootstrap_samples = 10  # For example, 10 times the original size\n",
    "bootstrap_size = len(df_ukr_conflict)  # Size of each bootstrap sample\n",
    "\n",
    "# Create a list to store bootstrap samples\n",
    "bootstrap_samples = []\n",
    "\n",
    "for _ in range(n_bootstrap_samples):\n",
    "    # Generate a bootstrap sample with replacement\n",
    "    sample = df_ukr_conflict.sample(n=bootstrap_size, replace=True)\n",
    "    bootstrap_samples.append(sample)\n",
    "\n",
    "# Combine all bootstrap samples into a single DataFrame\n",
    "combined_bootstrap_df = pd.concat(bootstrap_samples, ignore_index=True)\n",
    "\n",
    "# Display the resulting DataFrame\n",
    "print(f\"Original DataFrame size: {len(df_ukr_conflict)}\")\n",
    "print(f\"Bootstrap DataFrame size: {len(combined_bootstrap_df)}\")"
   ],
   "metadata": {
    "collapsed": false,
    "ExecuteTime": {
     "end_time": "2024-08-21T18:11:26.779250Z",
     "start_time": "2024-08-21T18:11:26.678107Z"
    }
   },
   "id": "4515eff5aff3f5e2"
  },
  {
   "cell_type": "code",
   "execution_count": 222,
   "outputs": [
    {
     "data": {
      "text/plain": "            id                                              title  score  \\\n0      1dnxesw   zaluzhny is out, the ‘butcher’ is in. [feb 2024]      0   \n1      1eiwkq3  russia suffers 1,170 war casualties in past 24...    144   \n2      1dz0doy  us ambassador to nato julianna smith stated \"t...    141   \n3      1dye0zq  ⚡️ the united nations security council will co...    808   \n4      1ehkgdh  russia breaks records in monthly losses in ukr...    120   \n...        ...                                                ...    ...   \n16825  1e9fxa6  ⚡️the 🇳🇱netherlands will produce 180 cv90 vehi...    443   \n16826  1ejwms7  ukrainian air force: \"official statement: f-16...    969   \n16827  1e89qlo  ‘this is nuts’: bolton on trump plans for ukraine    601   \n16828  1dj0tsp  the ukrainian military destroyed russia's newe...   1064   \n16829  1eeumdc  the drone found in kyiv region turned out to b...     70   \n\n       num_comments  upvote_ratio          created_utc          author  \\\n0                 6          0.24  2024-06-25 04:25:10       rulepanic   \n1                 6          0.97  2024-08-03 06:32:29      MantasChan   \n2                 6          0.98  2024-07-09 11:47:20       new974517   \n3                86          0.99  2024-07-08 17:01:20   Orcasystems99   \n4                 8          0.98  2024-08-01 16:06:22  Ok-Status-6649   \n...             ...           ...                  ...             ...   \n16825            16          0.99  2024-07-22 14:39:00   Orcasystems99   \n16826           144          0.99  2024-08-04 14:32:59       rulepanic   \n16827            73          0.96  2024-07-21 00:22:39         newzee1   \n16828            37          0.97  2024-06-18 20:36:11        ua-stena   \n16829             5          0.95  2024-07-29 08:46:42       Mil_in_ua   \n\n                                                     url  \n0      https://www.politico.com/newsletters/national-...  \n1      https://www.ukrinform.net/rubric-ato/3891563-r...  \n2      https://www.holosameryky.com/a/majemo-duje-poz...  \n3      https://x.com/blyskavka_ua/status/181035642519...  \n4            https://britchronicle.co.uk/3B2u0OmpQJdyeOM  \n...                                                  ...  \n16825  https://x.com/front_ukrainian/status/181539257...  \n16826  https://twitter.com/KpsZSU/status/182010392189...  \n16827  https://edition.cnn.com/2024/07/19/politics/vi...  \n16828  https://ua-stena.info/en/atacms-missile-strike...  \n16829  https://mil.in.ua/en/news/the-drone-found-in-k...  \n\n[16830 rows x 8 columns]",
      "text/html": "<div>\n<style scoped>\n    .dataframe tbody tr th:only-of-type {\n        vertical-align: middle;\n    }\n\n    .dataframe tbody tr th {\n        vertical-align: top;\n    }\n\n    .dataframe thead th {\n        text-align: right;\n    }\n</style>\n<table border=\"1\" class=\"dataframe\">\n  <thead>\n    <tr style=\"text-align: right;\">\n      <th></th>\n      <th>id</th>\n      <th>title</th>\n      <th>score</th>\n      <th>num_comments</th>\n      <th>upvote_ratio</th>\n      <th>created_utc</th>\n      <th>author</th>\n      <th>url</th>\n    </tr>\n  </thead>\n  <tbody>\n    <tr>\n      <th>0</th>\n      <td>1dnxesw</td>\n      <td>zaluzhny is out, the ‘butcher’ is in. [feb 2024]</td>\n      <td>0</td>\n      <td>6</td>\n      <td>0.24</td>\n      <td>2024-06-25 04:25:10</td>\n      <td>rulepanic</td>\n      <td>https://www.politico.com/newsletters/national-...</td>\n    </tr>\n    <tr>\n      <th>1</th>\n      <td>1eiwkq3</td>\n      <td>russia suffers 1,170 war casualties in past 24...</td>\n      <td>144</td>\n      <td>6</td>\n      <td>0.97</td>\n      <td>2024-08-03 06:32:29</td>\n      <td>MantasChan</td>\n      <td>https://www.ukrinform.net/rubric-ato/3891563-r...</td>\n    </tr>\n    <tr>\n      <th>2</th>\n      <td>1dz0doy</td>\n      <td>us ambassador to nato julianna smith stated \"t...</td>\n      <td>141</td>\n      <td>6</td>\n      <td>0.98</td>\n      <td>2024-07-09 11:47:20</td>\n      <td>new974517</td>\n      <td>https://www.holosameryky.com/a/majemo-duje-poz...</td>\n    </tr>\n    <tr>\n      <th>3</th>\n      <td>1dye0zq</td>\n      <td>⚡️ the united nations security council will co...</td>\n      <td>808</td>\n      <td>86</td>\n      <td>0.99</td>\n      <td>2024-07-08 17:01:20</td>\n      <td>Orcasystems99</td>\n      <td>https://x.com/blyskavka_ua/status/181035642519...</td>\n    </tr>\n    <tr>\n      <th>4</th>\n      <td>1ehkgdh</td>\n      <td>russia breaks records in monthly losses in ukr...</td>\n      <td>120</td>\n      <td>8</td>\n      <td>0.98</td>\n      <td>2024-08-01 16:06:22</td>\n      <td>Ok-Status-6649</td>\n      <td>https://britchronicle.co.uk/3B2u0OmpQJdyeOM</td>\n    </tr>\n    <tr>\n      <th>...</th>\n      <td>...</td>\n      <td>...</td>\n      <td>...</td>\n      <td>...</td>\n      <td>...</td>\n      <td>...</td>\n      <td>...</td>\n      <td>...</td>\n    </tr>\n    <tr>\n      <th>16825</th>\n      <td>1e9fxa6</td>\n      <td>⚡️the 🇳🇱netherlands will produce 180 cv90 vehi...</td>\n      <td>443</td>\n      <td>16</td>\n      <td>0.99</td>\n      <td>2024-07-22 14:39:00</td>\n      <td>Orcasystems99</td>\n      <td>https://x.com/front_ukrainian/status/181539257...</td>\n    </tr>\n    <tr>\n      <th>16826</th>\n      <td>1ejwms7</td>\n      <td>ukrainian air force: \"official statement: f-16...</td>\n      <td>969</td>\n      <td>144</td>\n      <td>0.99</td>\n      <td>2024-08-04 14:32:59</td>\n      <td>rulepanic</td>\n      <td>https://twitter.com/KpsZSU/status/182010392189...</td>\n    </tr>\n    <tr>\n      <th>16827</th>\n      <td>1e89qlo</td>\n      <td>‘this is nuts’: bolton on trump plans for ukraine</td>\n      <td>601</td>\n      <td>73</td>\n      <td>0.96</td>\n      <td>2024-07-21 00:22:39</td>\n      <td>newzee1</td>\n      <td>https://edition.cnn.com/2024/07/19/politics/vi...</td>\n    </tr>\n    <tr>\n      <th>16828</th>\n      <td>1dj0tsp</td>\n      <td>the ukrainian military destroyed russia's newe...</td>\n      <td>1064</td>\n      <td>37</td>\n      <td>0.97</td>\n      <td>2024-06-18 20:36:11</td>\n      <td>ua-stena</td>\n      <td>https://ua-stena.info/en/atacms-missile-strike...</td>\n    </tr>\n    <tr>\n      <th>16829</th>\n      <td>1eeumdc</td>\n      <td>the drone found in kyiv region turned out to b...</td>\n      <td>70</td>\n      <td>5</td>\n      <td>0.95</td>\n      <td>2024-07-29 08:46:42</td>\n      <td>Mil_in_ua</td>\n      <td>https://mil.in.ua/en/news/the-drone-found-in-k...</td>\n    </tr>\n  </tbody>\n</table>\n<p>16830 rows × 8 columns</p>\n</div>"
     },
     "execution_count": 222,
     "metadata": {},
     "output_type": "execute_result"
    }
   ],
   "source": [
    "combined_bootstrap_df"
   ],
   "metadata": {
    "collapsed": false,
    "ExecuteTime": {
     "end_time": "2024-08-21T18:11:26.779866Z",
     "start_time": "2024-08-21T18:11:26.685191Z"
    }
   },
   "id": "74c266ed0478b379"
  },
  {
   "cell_type": "markdown",
   "source": [
    "I was considering creating additional data using bootstrapping, but it would not be suitable due to the specification of analysis.\n",
    "..."
   ],
   "metadata": {
    "collapsed": false
   },
   "id": "f1eaccf6a11617ca"
  },
  {
   "cell_type": "code",
   "execution_count": 222,
   "outputs": [],
   "source": [],
   "metadata": {
    "collapsed": false,
    "ExecuteTime": {
     "end_time": "2024-08-21T18:11:26.782588Z",
     "start_time": "2024-08-21T18:11:26.687713Z"
    }
   },
   "id": "19c656e4e440d001"
  }
 ],
 "metadata": {
  "kernelspec": {
   "display_name": "Python 3",
   "language": "python",
   "name": "python3"
  },
  "language_info": {
   "codemirror_mode": {
    "name": "ipython",
    "version": 2
   },
   "file_extension": ".py",
   "mimetype": "text/x-python",
   "name": "python",
   "nbconvert_exporter": "python",
   "pygments_lexer": "ipython2",
   "version": "2.7.6"
  }
 },
 "nbformat": 4,
 "nbformat_minor": 5
}
